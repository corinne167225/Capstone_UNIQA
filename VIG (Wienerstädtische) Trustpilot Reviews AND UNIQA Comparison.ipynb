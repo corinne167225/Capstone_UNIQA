{
 "cells": [
  {
   "cell_type": "markdown",
   "id": "6369bfca",
   "metadata": {},
   "source": [
    "# Vienna Insurance Group (VIG)- Wiener Städtische Versicherung Trustpilot Reviews\n",
    "It is important to note here that VIG Holding is the 'umbrella organization of the Vienna Insurance Group' and that \n",
    "VIG is made up of various other companies: VIG, Donau Versicherung, Wiener Städtische Versicherung. Therefore, I will be taking reviews from multiple 'seemingly different' companies, however, they are all components of the VIG- which is UNIQA's top competitor to date. This notebook is all about Wiener Städtische Versicherung."
   ]
  },
  {
   "cell_type": "code",
   "execution_count": 1,
   "id": "a66cdaa8",
   "metadata": {},
   "outputs": [],
   "source": [
    "#importing libraries\n",
    "from scrapethat import *\n",
    "import pandas as pd\n",
    "from datetime import datetime\n",
    "import matplotlib.pyplot as plt"
   ]
  },
  {
   "cell_type": "markdown",
   "id": "19b5b217",
   "metadata": {},
   "source": [
    "Testing with the 1st page of the trust pilot website"
   ]
  },
  {
   "cell_type": "code",
   "execution_count": 26,
   "id": "7a09c1fd",
   "metadata": {},
   "outputs": [],
   "source": [
    "site = read_cloud('https://at.trustpilot.com/review/www.wienerstaedtische.at')\n",
    "paragraphs = site.find_all('p')"
   ]
  },
  {
   "cell_type": "code",
   "execution_count": 24,
   "id": "448fedb5",
   "metadata": {},
   "outputs": [],
   "source": [
    "page1 = [paragraph.get_text() for paragraph in paragraphs[15:54] if 'Datum' not in paragraph.get_text() and 'Profil nicht' not in paragraph.get_text() and 'Vielen Dank' not in paragraph.get_text() and 'Sehr geehrter' not in paragraph.get_text() and 'Antwort von' not in paragraph.get_text()]"
   ]
  },
  {
   "cell_type": "markdown",
   "id": "31c3ff6c",
   "metadata": {},
   "source": [
    "Defining function to get all pages from trustpilot"
   ]
  },
  {
   "cell_type": "code",
   "execution_count": 41,
   "id": "83936850",
   "metadata": {},
   "outputs": [],
   "source": [
    "def get_reviews(url):\n",
    "    try:\n",
    "        if url == 'https://at.trustpilot.com/review/www.wienerstaedtische.at':\n",
    "            site = read_cloud(url)\n",
    "            paragraphs = site.find_all('p')\n",
    "            reviews = [paragraph.get_text() for paragraph in paragraphs[15:54] if 'Datum' not in paragraph.get_text() and 'Profil nicht' not in paragraph.get_text() and 'Vielen Dank' not in paragraph.get_text() and 'Sehr geehrter' not in paragraph.get_text() and 'Antwort von' not in paragraph.get_text()]\n",
    "        else:\n",
    "            site = read_cloud(url)\n",
    "            paragraphs = site.find_all('p')\n",
    "            reviews = [paragraph.get_text() for paragraph in paragraphs[15:54] if 'Datum' not in paragraph.get_text() and 'Profil nicht' not in paragraph.get_text() and 'Vielen Dank' not in paragraph.get_text() and 'Sehr geehrter' not in paragraph.get_text() and 'Antwort von' not in paragraph.get_text()]\n",
    "            reviews = reviews[:2]\n",
    "        return reviews\n",
    "    except:\n",
    "        return None"
   ]
  },
  {
   "cell_type": "code",
   "execution_count": 42,
   "id": "f81dc5fe",
   "metadata": {},
   "outputs": [],
   "source": [
    "#gathering all trust pilot urls\n",
    "trust_pilot_urls = [f'https://at.trustpilot.com/review/www.wienerstaedtische.at?page={i}' for i in range(2,3)]\n",
    "trust_pilot_urls.append('https://at.trustpilot.com/review/www.wienerstaedtische.at')"
   ]
  },
  {
   "cell_type": "code",
   "execution_count": 43,
   "id": "1d5accd6",
   "metadata": {},
   "outputs": [
    {
     "data": {
      "text/plain": [
       "['https://at.trustpilot.com/review/www.wienerstaedtische.at?page=2',\n",
       " 'https://at.trustpilot.com/review/www.wienerstaedtische.at']"
      ]
     },
     "execution_count": 43,
     "metadata": {},
     "output_type": "execute_result"
    }
   ],
   "source": [
    "trust_pilot_urls"
   ]
  },
  {
   "cell_type": "code",
   "execution_count": 46,
   "id": "b25a2d35",
   "metadata": {},
   "outputs": [
    {
     "name": "stdout",
     "output_type": "stream",
     "text": [
      "\n"
     ]
    }
   ],
   "source": [
    "#testing function with page 1\n",
    "get_reviews('https://at.trustpilot.com/review/www.wienerstaedtische.at')\n",
    "print()"
   ]
  },
  {
   "cell_type": "code",
   "execution_count": 47,
   "id": "ec3b8422",
   "metadata": {},
   "outputs": [
    {
     "data": {
      "text/plain": [
       "[['ewige wartezeiten man muss quasi um Rückruf betteln Die Mitarbeiter schlafen',\n",
       "  'Keine Rückmeldungen auf Mais, lange Wartezeiten auf Auszahlungen, sehr enttäuschend!'],\n",
       " ['Verarschen einen von vorn bis hinten, lassen einen nicht kündigen und finden immer irgendwelche Ausreden und Sachen die angeblich nicht passen. Telefonische Serviceline auch inkompetent, die meinte auch eine Kündigung ist nicht möglich.. geholfen wurde da nicht.. als sich der Vertrag dann um ein Jahr verlängerte, war es dann doch möglich zu kündigen.. damit sie ein Jahr länger gezahlt bekommen..\"Ihre Sorgen möchten wir haben\" - Diese Versicherung ist meine einzige Sorge..',\n",
       "  'Sehr schlimm und grenzt an Betrug mit ihren vertägen wo die Angestellten nur auf gute Porvisionen Arbeiten das sie gewinne machen.Und nur zum vorteil der Versicherung der Wiener Staedtischen.Bei mir war es eine Begräbniskostenversicherung für die Begräbniss kosten.Habe weniger bekommen was ich überhaubt eingezahlt habe.Hätte ich mir mein geld gespart wäre ich viel besser ausgestiegen um Paar 1000 euro mehr hätte ich geld gehabt für das Begräbniss meiner Mutter.Kann keinem raten diese versicherung in anspruch zu nehmen.Und habe noch fast 2000 euro mehr zahlen können für das Begräbnis meiner Mutter.und das schlimmste war noch wie meine mutter gestorben ist haben die noch immer die raten abgebucht von meinem konto. Das sagt doch alles von so einer Versicherung nie wieder Wienerstaedtische!!!!!!!!!',\n",
       "  'Unfreundlich, unhöflich, und arrogant. Wenn möglich wäre, hätte ich 0 Sterne gegeben. Ich habe ein Schaden gehabt, telefonisch wurde mir gesagt, dass die Rechnung übernommen würde, haben sie aber nicht gemacht. Haben sogar meiner Telefonnummer blockiert, damit ich mich nicht beschweren kann. Könnte das nicht glauben. ',\n",
       "  'Ich würde sagen, es hängt vom Betreuer ab den man eben selbstständig auswählt, und einfach nur zu sagen dass die Wiener Städtische nichts deckt oder nichts tut ist ungerecht wenns nach dem geht sind alle Versicherungen gleich.Es kommt nur auf den Kundenservice an und ob der Berater da ist für dich! Und du dich auch selber wirklich ausdrücken kannst (normal) was du als Kunde beziehungsweiße Versicherungsnehmer brauchst und benötigst.',\n",
       "  'Ich bin schon lange unzufrieden. In 7 Jahren hatte ich 5 Versicherungsfälle wovon 3 abgelehnt wurden… Man fühlt als Kunde laufend im Stich gelassen. ',\n",
       "  'Ich habe mir ein neues Auto gekauft und von meinem Versicherungsvertreter einen besseren Versicherungsvertrag bekommen. Der Vertrag bei der Städtischen wurde gekündigt, aber die offen 420€ hatte ich nach 6 Monaten noch immer nicht rücküberwiesen bekommen.Erst nach einigen schriftlichen Beschwerden bekam ich dann mein Geld zurück. Ich bin überzeugt, wenn ich ein paar Tage überfällig bin mit einem Beitrag gilt der Versicherungsschutz nicht mehr und ich bekomme eine Mahnung. Aber die Versicherung zahlt Monate lang das Geld nicht aus, das ihnen nicht gehört.',\n",
       "  'Der Slogan sollte nicht heißen „ihre Sorgen wollen wir haben“ sondern lieber „ihre Kohle wollen wir haben“Drei Jahre Kunde mit KFZ Versicherung. In der Zeit wurde die Prämie bereits um 50% verteuert. Nach Schaden werde ich nun gekündigt. Eine absolute Katastrophe diese Versicherung. Lasst die Finger davon',\n",
       "  'Interne Kommunikation funktioniert gar nicht, die Abwicklung von Anliegen dauert sehr lange und ist sehr chaotisch, so, dass es einem selbst schwer fällt einen Überblick zu bewahren. Für mich als Kundin ist es sehr zeit- und energieaufwändig in Kontakt zu treten und Anliegen erledigt zu bekommen. Insgesamt sehr unzufriedenstellend!Ergänzung: Die einzelnen Mitarbeiter*innen sind meist bemüht, in ihrer Handhabe aufgrund des unrunden Systems und den vorhandenen Strukturen stark eingeschränkt - das ist für die Kund*innen und auch für die Mitarbeiter*innen sehr mühsam!',\n",
       "  'Außer Späßen nichts gewesen.. leider gehen keine -sterne ...komplett unfähige Mitarbeiter.. die bei einer Auto anmeldung nicht mal nachfragen und fehler rein Tippen aber 2 mal kassieren fürs anmelden und ummelden... da wundert mich ihr leitspruch\" ihre sorgen möchten wir haben\" nicht mehr...',\n",
       "  'nach Kündigung einer \"Unfallversicherung\" die nichts bringt, ausser du bist Versicherungsfachkraft und kannst im Krankenhaus liegend einn Formularberg ausdrucken und ausfüllen und retour schicken, kann ichjetzt noch ein ganzes Jahr bezahlen , weil bei diesem Verein ein Jahr im Oktober endet....f...k',\n",
       "  'Ich wurde nicht über die \"Kaskoantragsversicherung\" informiert. Beim ersten Schaden (Steinschlag) wurden somit €1000 Selbstbehalt verrechnet statt den vereinbarten €300. Ich kann zwar mit Bildern nachweisen, dass bei Kauf kein Steinschlag vorhanden war, das \"Entgegenkommen\" war dann (angeblich) eine Reduktion auf €660 -- angeblich weil ich auf die Rückerstattung seit Monaten warte. Jetzt wurde die Prämie auch noch erhöht.',\n",
       "  'Meine neue optische Brille wurde von meinem Enkerl unabsichtlich demoliert. Wert 650 Euro. Mein Schwiegerdohn reichte den Schaden ein. Es wurden 50 Euro gene migt. Danke Stättische. Gute Versicherung. Hauptsache abkassieren🤑',\n",
       "  'Habe Probleme wegen Krankenkassa gehabt, sie wollten mir mein Krankenkassageld nicht auszahlen obwohl ich Recht darauf gehabt hätte. War selber bei govno Versicherung und habe  1 Jahr lange meine Polizze bezahlt. Bin zu Versicherung gegangen und wollte Anwalt Hilfe  holen und mir wurde mein Anwalt abgelernt! Mit Ausrede govno Polizze wurde für diese Monat nicht bezahlt obwohl immer von Konto das Geld abgebucht wurde, Konto war deswegen immer im Plus! Was ist passiert habe  Polizze gekündigt ihn Jahr 2022 .Bin dann zu Arbeiterkammer gegangen und habe gegen  Krankenkassa Anzeige gemacht und habe mein Geld bekommen. Und ihn Jahr 2024 wurde mir gesagt das die Krankenkasse und AMS nicht übernommen wird, obwohl es zuerst hieß dass es gedeckt ist. Die Versicherung deckt AMS Geldbezug nicht wenn man Sperre bekommt, auch wenn es nicht gerechtfertigt ist und Krankenkassengeld ist auch in der Versicherung nicht enthalten, da die Versicherung da sieht das man einen Rechtsstreit nicht gewinnen kann. Man braucht als Arbeitsloser oder schwer Kranke brauchen dieses govno Versicherung nicht, da sie alleine im Kampf stehen gelassen werden.',\n",
       "  'Trotz kündigung seit 3 Jahren wird Geld von meine Konto abgebucht??? Ich habe deswegen 30 E-Mails geschrieben und immer war die einzige Antwort drauf dass die E-Mail weitergeleitet wird?? Weder auf E-Mails noch auf Anrufe antworten die!! Von mir 0,0 Sterne! Kundenservice existiert auch gefühlt nicht :)',\n",
       "  'Teils meine Schuld, teils ein Missverständnis – ich bekam Ärger mit der Hausverwaltung und die wollten mich rausschmeißen. Ich habe mich hilfesuchend an die Wiener Stedische gewandt, da ich dort eine Rechtsschutzversicherung hatte. Obwohl ich freie Anwaltswahl habe, wurde ich von der Versicherung gezwungen, ihre Anwälte zu konsultieren. Die haben alle Informationen von mir gesammelt und statt mir zu helfen, alles gegen mich benützt haben, um Hilfe abzulehnen. Darüber hinaus ist es offensichtlich, dass sie einfach die Hälfte davon nicht verstanden, aber nicht geklärt und nicht hinterfragt haben – keine Interesse. Das Problem mit der Hausverwaltung wurde Ich selber gelöst.',\n",
       "  'Seit mehreren Wochen reagiert die Kundenservice-Mail nicht auf meine Anfrage. Ich bekomme weiter Post, für die ich nicht zuständig bin, inklusive der Androhung rechtlicher Schritte gegen einen Verstorbenen (ich bin nicht Erbe).',\n",
       "  '„Ihre Sorgen möchten wir haben“ dr grösste prank aller zeitenwenni könnt täti 0 sterne geh, a paar schöne briaf kregt dass mine arztrechnunga bezüglich schwangerschaft ned übernoh weran, weli zum zeitpunkt der vertragserstellung in dr 2. woche schwanger war aber es NACHWEISLICH ned gwusst hon, trdm mussi versicherung zahla PLUS mine arztrechnunga (also  1.200,- + krankaversicherung 260,-) einfach 1.500€ für des dasi EIGENTLICH versichert wär des isch doch an witz, zahlt ma versicherung & denn muss ma doch alles andere oh sel zahlaih würds verstoh wenni bem untrschrieba im 2.-3. monat gsi wär, SRY ABER 2. WOCHE??!?!!!! do wär nedmol an test positiv gsi????  ih hon nochwiesa könna dass is zu dem zeitpunkt ned gwusst hon, clowns verein isch des',\n",
       "  'Man zahlt jahrzehnte die Versicherungsprämie doch wenn man dann eine leistung aus der versicherung beansprucht wird man gekündigt! Finger weg von dieser Versicherungsgesellschaft!!!',\n",
       "  'Service Bescheiden...und das ist noch mehr als freundlich ausgedrückt.Habe durch einen Treppensturz zwei Vorderzähne verloren. Zuerst mal einmal war es ein wahrer Hürdenlauf das Formular für die Unfallmeldung des Zahnarztes zu erhalten!Mitarbeiter ist nicht wirklich einer zuständig, ich denke wie bei einer Tombola - ziehe ein Los und dann schau was oder wer dabei rauskommt.Die Frage nach der Höhe der Deckung des Schades blieb bisher unbeantwortet. Aussagen sind eher so gehalten, dass alle interpretiert werden kann.Die Zahlung der Beträge aber werden pünktlich erwartet - nur Gott bewahre man braucht dann eine Leistung.Ich rate sehr von dieser Versicherung ab. Ist eher eine Frechheit wie man hier als Kunde behandelt wird.Ich renne den Antworten eher nach, als dass diese gleich bei der ersten E-Mail beantwortet werden.Schlecht ist noch freundlich - ich bin sicher es gibt bessere Unfallversicherungen.',\n",
       "  'Bin seit 25 Jahren Kunde (HHV) und egal um was es geht - zahlt nie. Irgendein diabolisches Kleingedrucktes finden sie immer um sich zu drücken.']]"
      ]
     },
     "execution_count": 47,
     "metadata": {},
     "output_type": "execute_result"
    }
   ],
   "source": [
    "#getting all reviews\n",
    "all_reviews = list(map(lambda url: get_reviews(url), trust_pilot_urls))\n",
    "all_reviews"
   ]
  },
  {
   "cell_type": "markdown",
   "id": "e1ac8345",
   "metadata": {},
   "source": [
    "### Now, want to try pandas df to draw multiple pieces of info from the reviews"
   ]
  },
  {
   "cell_type": "code",
   "execution_count": 49,
   "id": "a493f10a",
   "metadata": {},
   "outputs": [],
   "source": [
    "site = read_cloud('https://at.trustpilot.com/review/www.wienerstaedtische.at')\n",
    "#username\n",
    "usernames = site.find_all('span', class_ = 'typography_heading-xxs__QKBS8 typography_appearance-default__AAY17')\n",
    "username_list = [username.get_text() for username in usernames]\n",
    "#amount of reviews per user on Trustpilot\n",
    "review_nums = site.find_all('span', class_ = 'typography_body-m__xgxZ_ typography_appearance-subtle__8_H2l')\n",
    "all_review_nums = [int(review_num.get_text().split()[0]) for review_num in review_nums][3:]\n",
    "#country/location of user\n",
    "countries = site.find_all('span', class_ = '')\n",
    "all_countries = [cun.get_text() for cun in countries if (len(cun.get_text()) < 4) and (cun.get_text() != '')]\n",
    "#title/header on review\n",
    "titles = site.find_all('h2', class_ = 'typography_heading-s__f7029 typography_appearance-default__AAY17')\n",
    "all_titles = [title.get_text() for title in titles]\n",
    "#stars given out of 5\n",
    "stars = site.find_all('img', alt = True)\n",
    "all_stars = [int(star['alt'].split()[2]) for star in stars if 'Bewertet' in star['alt']]\n"
   ]
  },
  {
   "cell_type": "code",
   "execution_count": 50,
   "id": "faf76764",
   "metadata": {},
   "outputs": [],
   "source": [
    "#function to create a dataframe out of Trustpilot reviews\n",
    "def get_all_info (site):\n",
    "    try:\n",
    "        site = read_cloud(site)\n",
    "        #username\n",
    "        usernames = site.find_all('span', class_ = 'typography_heading-xxs__QKBS8 typography_appearance-default__AAY17')\n",
    "        username_list = [username.get_text() for username in usernames]\n",
    "        #amount of reviews per user on Trustpilot\n",
    "        review_nums = site.find_all('span', class_ = 'typography_body-m__xgxZ_ typography_appearance-subtle__8_H2l')\n",
    "        all_review_nums = [int(review_num.get_text().split()[0]) for review_num in review_nums][3:]\n",
    "        #country/location of user\n",
    "        countries = site.find_all('span', class_ = '')\n",
    "        all_countries = [cun.get_text() for cun in countries if (len(cun.get_text()) < 4) and (cun.get_text() != '')]\n",
    "        #title/header on review\n",
    "        titles = site.find_all('h2', class_ = 'typography_heading-s__f7029 typography_appearance-default__AAY17')\n",
    "        all_titles = [title.get_text() for title in titles]\n",
    "        #stars given out of 5\n",
    "        stars = site.find_all('img', alt = True)\n",
    "        all_stars = [int(star['alt'].split()[2]) for star in stars if 'Bewertet' in star['alt']]\n",
    "        #DataFrame\n",
    "        data = {\n",
    "            'username':username_list,\n",
    "            '#_of_reviews_per_user': all_review_nums,\n",
    "            'country': all_countries,\n",
    "            'review_title':all_titles,\n",
    "            'stars':all_stars}\n",
    "#             'date_experienced':date_experienced_dt_objects,\n",
    "#             'date_experienced_weekdays':date_experienced_weekdays\n",
    "        df = pd.DataFrame(data)\n",
    "        return df\n",
    "    except:\n",
    "        return None"
   ]
  },
  {
   "cell_type": "code",
   "execution_count": 51,
   "id": "299b6057",
   "metadata": {},
   "outputs": [],
   "source": [
    "#all review info\n",
    "dataframes = [get_all_info(url) for url in trust_pilot_urls]"
   ]
  },
  {
   "cell_type": "code",
   "execution_count": 52,
   "id": "59866d17",
   "metadata": {},
   "outputs": [
    {
     "data": {
      "text/html": [
       "<div>\n",
       "<style scoped>\n",
       "    .dataframe tbody tr th:only-of-type {\n",
       "        vertical-align: middle;\n",
       "    }\n",
       "\n",
       "    .dataframe tbody tr th {\n",
       "        vertical-align: top;\n",
       "    }\n",
       "\n",
       "    .dataframe thead th {\n",
       "        text-align: right;\n",
       "    }\n",
       "</style>\n",
       "<table border=\"1\" class=\"dataframe\">\n",
       "  <thead>\n",
       "    <tr style=\"text-align: right;\">\n",
       "      <th></th>\n",
       "      <th>username</th>\n",
       "      <th>#_of_reviews_per_user</th>\n",
       "      <th>country</th>\n",
       "      <th>review_title</th>\n",
       "      <th>stars</th>\n",
       "    </tr>\n",
       "  </thead>\n",
       "  <tbody>\n",
       "    <tr>\n",
       "      <th>0</th>\n",
       "      <td>Mario Lacky</td>\n",
       "      <td>2</td>\n",
       "      <td>AT</td>\n",
       "      <td>Nie wieder..</td>\n",
       "      <td>1</td>\n",
       "    </tr>\n",
       "    <tr>\n",
       "      <th>1</th>\n",
       "      <td>Roman Berger</td>\n",
       "      <td>3</td>\n",
       "      <td>AT</td>\n",
       "      <td>Sehr schlimm und grenzt an betrug</td>\n",
       "      <td>1</td>\n",
       "    </tr>\n",
       "    <tr>\n",
       "      <th>2</th>\n",
       "      <td>Velina Atanasova</td>\n",
       "      <td>1</td>\n",
       "      <td>AT</td>\n",
       "      <td>NIE WIEDER</td>\n",
       "      <td>1</td>\n",
       "    </tr>\n",
       "    <tr>\n",
       "      <th>3</th>\n",
       "      <td>Moonlight</td>\n",
       "      <td>2</td>\n",
       "      <td>AT</td>\n",
       "      <td>Meine Bewertung/ Meine Meinung</td>\n",
       "      <td>5</td>\n",
       "    </tr>\n",
       "    <tr>\n",
       "      <th>4</th>\n",
       "      <td>Matthias Hahn</td>\n",
       "      <td>1</td>\n",
       "      <td>AT</td>\n",
       "      <td>Ich bin schon lange unzufrieden</td>\n",
       "      <td>1</td>\n",
       "    </tr>\n",
       "    <tr>\n",
       "      <th>5</th>\n",
       "      <td>Gabi Bauer</td>\n",
       "      <td>1</td>\n",
       "      <td>AT</td>\n",
       "      <td>6 Monate auf Rückzahlung gewartet</td>\n",
       "      <td>1</td>\n",
       "    </tr>\n",
       "    <tr>\n",
       "      <th>6</th>\n",
       "      <td>Mirko Stani</td>\n",
       "      <td>1</td>\n",
       "      <td>AT</td>\n",
       "      <td>Drei Jahre Kunde, wurde 50% teurer</td>\n",
       "      <td>1</td>\n",
       "    </tr>\n",
       "    <tr>\n",
       "      <th>7</th>\n",
       "      <td>Uli</td>\n",
       "      <td>1</td>\n",
       "      <td>AT</td>\n",
       "      <td>Unfassbar schlechtes Kundenservice!</td>\n",
       "      <td>1</td>\n",
       "    </tr>\n",
       "    <tr>\n",
       "      <th>8</th>\n",
       "      <td>Hannes</td>\n",
       "      <td>2</td>\n",
       "      <td>AT</td>\n",
       "      <td>Außer Späßen nichts gewesen.</td>\n",
       "      <td>1</td>\n",
       "    </tr>\n",
       "    <tr>\n",
       "      <th>9</th>\n",
       "      <td>Stefan Hensel</td>\n",
       "      <td>1</td>\n",
       "      <td>AT</td>\n",
       "      <td>nach Kündigung einer…</td>\n",
       "      <td>1</td>\n",
       "    </tr>\n",
       "    <tr>\n",
       "      <th>10</th>\n",
       "      <td>wiseboar</td>\n",
       "      <td>5</td>\n",
       "      <td>AT</td>\n",
       "      <td>NULL Kulanz, extrem langsam in der Reaktion</td>\n",
       "      <td>1</td>\n",
       "    </tr>\n",
       "    <tr>\n",
       "      <th>11</th>\n",
       "      <td>Herr Manfred Fröhlich</td>\n",
       "      <td>18</td>\n",
       "      <td>AT</td>\n",
       "      <td>Meine neue optische Brille wurde von…</td>\n",
       "      <td>1</td>\n",
       "    </tr>\n",
       "    <tr>\n",
       "      <th>12</th>\n",
       "      <td>Vlad Tepes Draculea</td>\n",
       "      <td>9</td>\n",
       "      <td>AT</td>\n",
       "      <td>Habe Probleme wegen Krankenkassa…</td>\n",
       "      <td>1</td>\n",
       "    </tr>\n",
       "    <tr>\n",
       "      <th>13</th>\n",
       "      <td>Noras Abd</td>\n",
       "      <td>1</td>\n",
       "      <td>AT</td>\n",
       "      <td>Kündigung dauert 3 Jahre??</td>\n",
       "      <td>1</td>\n",
       "    </tr>\n",
       "    <tr>\n",
       "      <th>14</th>\n",
       "      <td>Yuriy Kostiv</td>\n",
       "      <td>3</td>\n",
       "      <td>UA</td>\n",
       "      <td>Sammeln die Schaden Informationen, um sie gege...</td>\n",
       "      <td>1</td>\n",
       "    </tr>\n",
       "    <tr>\n",
       "      <th>15</th>\n",
       "      <td>David M</td>\n",
       "      <td>1</td>\n",
       "      <td>AT</td>\n",
       "      <td>E-Mail Kundenservice scheinbar nicht existent</td>\n",
       "      <td>2</td>\n",
       "    </tr>\n",
       "    <tr>\n",
       "      <th>16</th>\n",
       "      <td>Nina</td>\n",
       "      <td>2</td>\n",
       "      <td>AT</td>\n",
       "      <td>„Ihre Sorgen möchten wir haben“</td>\n",
       "      <td>1</td>\n",
       "    </tr>\n",
       "    <tr>\n",
       "      <th>17</th>\n",
       "      <td>T.T</td>\n",
       "      <td>3</td>\n",
       "      <td>JM</td>\n",
       "      <td>Man zahlt jahrzehnte die…</td>\n",
       "      <td>1</td>\n",
       "    </tr>\n",
       "    <tr>\n",
       "      <th>18</th>\n",
       "      <td>Sylvia Redolfi</td>\n",
       "      <td>4</td>\n",
       "      <td>AT</td>\n",
       "      <td>Service Bescheiden...und das ist noch…</td>\n",
       "      <td>1</td>\n",
       "    </tr>\n",
       "    <tr>\n",
       "      <th>19</th>\n",
       "      <td>Johannes</td>\n",
       "      <td>3</td>\n",
       "      <td>AT</td>\n",
       "      <td>Zahlt nie</td>\n",
       "      <td>1</td>\n",
       "    </tr>\n",
       "  </tbody>\n",
       "</table>\n",
       "</div>"
      ],
      "text/plain": [
       "                 username  #_of_reviews_per_user country  \\\n",
       "0             Mario Lacky                      2      AT   \n",
       "1            Roman Berger                      3      AT   \n",
       "2        Velina Atanasova                      1      AT   \n",
       "3               Moonlight                      2      AT   \n",
       "4           Matthias Hahn                      1      AT   \n",
       "5              Gabi Bauer                      1      AT   \n",
       "6             Mirko Stani                      1      AT   \n",
       "7                     Uli                      1      AT   \n",
       "8                  Hannes                      2      AT   \n",
       "9           Stefan Hensel                      1      AT   \n",
       "10               wiseboar                      5      AT   \n",
       "11  Herr Manfred Fröhlich                     18      AT   \n",
       "12    Vlad Tepes Draculea                      9      AT   \n",
       "13              Noras Abd                      1      AT   \n",
       "14           Yuriy Kostiv                      3      UA   \n",
       "15                David M                      1      AT   \n",
       "16                   Nina                      2      AT   \n",
       "17                    T.T                      3      JM   \n",
       "18         Sylvia Redolfi                      4      AT   \n",
       "19               Johannes                      3      AT   \n",
       "\n",
       "                                         review_title  stars  \n",
       "0                                        Nie wieder..      1  \n",
       "1                   Sehr schlimm und grenzt an betrug      1  \n",
       "2                                          NIE WIEDER      1  \n",
       "3                      Meine Bewertung/ Meine Meinung      5  \n",
       "4                     Ich bin schon lange unzufrieden      1  \n",
       "5                   6 Monate auf Rückzahlung gewartet      1  \n",
       "6                  Drei Jahre Kunde, wurde 50% teurer      1  \n",
       "7                 Unfassbar schlechtes Kundenservice!      1  \n",
       "8                        Außer Späßen nichts gewesen.      1  \n",
       "9                               nach Kündigung einer…      1  \n",
       "10        NULL Kulanz, extrem langsam in der Reaktion      1  \n",
       "11              Meine neue optische Brille wurde von…      1  \n",
       "12                  Habe Probleme wegen Krankenkassa…      1  \n",
       "13                         Kündigung dauert 3 Jahre??      1  \n",
       "14  Sammeln die Schaden Informationen, um sie gege...      1  \n",
       "15      E-Mail Kundenservice scheinbar nicht existent      2  \n",
       "16                    „Ihre Sorgen möchten wir haben“      1  \n",
       "17                          Man zahlt jahrzehnte die…      1  \n",
       "18             Service Bescheiden...und das ist noch…      1  \n",
       "19                                          Zahlt nie      1  "
      ]
     },
     "execution_count": 52,
     "metadata": {},
     "output_type": "execute_result"
    }
   ],
   "source": [
    "get_all_info('https://at.trustpilot.com/review/www.wienerstaedtische.at')"
   ]
  },
  {
   "cell_type": "code",
   "execution_count": 53,
   "id": "a9abbd91",
   "metadata": {},
   "outputs": [
    {
     "data": {
      "text/html": [
       "<div>\n",
       "<style scoped>\n",
       "    .dataframe tbody tr th:only-of-type {\n",
       "        vertical-align: middle;\n",
       "    }\n",
       "\n",
       "    .dataframe tbody tr th {\n",
       "        vertical-align: top;\n",
       "    }\n",
       "\n",
       "    .dataframe thead th {\n",
       "        text-align: right;\n",
       "    }\n",
       "</style>\n",
       "<table border=\"1\" class=\"dataframe\">\n",
       "  <thead>\n",
       "    <tr style=\"text-align: right;\">\n",
       "      <th></th>\n",
       "      <th>index</th>\n",
       "      <th>username</th>\n",
       "      <th>#_of_reviews_per_user</th>\n",
       "      <th>country</th>\n",
       "      <th>review_title</th>\n",
       "      <th>stars</th>\n",
       "    </tr>\n",
       "  </thead>\n",
       "  <tbody>\n",
       "    <tr>\n",
       "      <th>0</th>\n",
       "      <td>0</td>\n",
       "      <td>Ri Chi</td>\n",
       "      <td>4</td>\n",
       "      <td>AT</td>\n",
       "      <td>ewige wartezeiten man muss quasi um…</td>\n",
       "      <td>1</td>\n",
       "    </tr>\n",
       "    <tr>\n",
       "      <th>1</th>\n",
       "      <td>1</td>\n",
       "      <td>Daniela Landauer</td>\n",
       "      <td>2</td>\n",
       "      <td>AT</td>\n",
       "      <td>Keine Rückmeldungen auf Mais</td>\n",
       "      <td>1</td>\n",
       "    </tr>\n",
       "    <tr>\n",
       "      <th>2</th>\n",
       "      <td>0</td>\n",
       "      <td>Mario Lacky</td>\n",
       "      <td>2</td>\n",
       "      <td>AT</td>\n",
       "      <td>Nie wieder..</td>\n",
       "      <td>1</td>\n",
       "    </tr>\n",
       "    <tr>\n",
       "      <th>3</th>\n",
       "      <td>1</td>\n",
       "      <td>Roman Berger</td>\n",
       "      <td>3</td>\n",
       "      <td>AT</td>\n",
       "      <td>Sehr schlimm und grenzt an betrug</td>\n",
       "      <td>1</td>\n",
       "    </tr>\n",
       "    <tr>\n",
       "      <th>4</th>\n",
       "      <td>2</td>\n",
       "      <td>Velina Atanasova</td>\n",
       "      <td>1</td>\n",
       "      <td>AT</td>\n",
       "      <td>NIE WIEDER</td>\n",
       "      <td>1</td>\n",
       "    </tr>\n",
       "    <tr>\n",
       "      <th>5</th>\n",
       "      <td>3</td>\n",
       "      <td>Moonlight</td>\n",
       "      <td>2</td>\n",
       "      <td>AT</td>\n",
       "      <td>Meine Bewertung/ Meine Meinung</td>\n",
       "      <td>5</td>\n",
       "    </tr>\n",
       "    <tr>\n",
       "      <th>6</th>\n",
       "      <td>4</td>\n",
       "      <td>Matthias Hahn</td>\n",
       "      <td>1</td>\n",
       "      <td>AT</td>\n",
       "      <td>Ich bin schon lange unzufrieden</td>\n",
       "      <td>1</td>\n",
       "    </tr>\n",
       "    <tr>\n",
       "      <th>7</th>\n",
       "      <td>5</td>\n",
       "      <td>Gabi Bauer</td>\n",
       "      <td>1</td>\n",
       "      <td>AT</td>\n",
       "      <td>6 Monate auf Rückzahlung gewartet</td>\n",
       "      <td>1</td>\n",
       "    </tr>\n",
       "    <tr>\n",
       "      <th>8</th>\n",
       "      <td>6</td>\n",
       "      <td>Mirko Stani</td>\n",
       "      <td>1</td>\n",
       "      <td>AT</td>\n",
       "      <td>Drei Jahre Kunde, wurde 50% teurer</td>\n",
       "      <td>1</td>\n",
       "    </tr>\n",
       "    <tr>\n",
       "      <th>9</th>\n",
       "      <td>7</td>\n",
       "      <td>Uli</td>\n",
       "      <td>1</td>\n",
       "      <td>AT</td>\n",
       "      <td>Unfassbar schlechtes Kundenservice!</td>\n",
       "      <td>1</td>\n",
       "    </tr>\n",
       "    <tr>\n",
       "      <th>10</th>\n",
       "      <td>8</td>\n",
       "      <td>Hannes</td>\n",
       "      <td>2</td>\n",
       "      <td>AT</td>\n",
       "      <td>Außer Späßen nichts gewesen.</td>\n",
       "      <td>1</td>\n",
       "    </tr>\n",
       "    <tr>\n",
       "      <th>11</th>\n",
       "      <td>9</td>\n",
       "      <td>Stefan Hensel</td>\n",
       "      <td>1</td>\n",
       "      <td>AT</td>\n",
       "      <td>nach Kündigung einer…</td>\n",
       "      <td>1</td>\n",
       "    </tr>\n",
       "    <tr>\n",
       "      <th>12</th>\n",
       "      <td>10</td>\n",
       "      <td>wiseboar</td>\n",
       "      <td>5</td>\n",
       "      <td>AT</td>\n",
       "      <td>NULL Kulanz, extrem langsam in der Reaktion</td>\n",
       "      <td>1</td>\n",
       "    </tr>\n",
       "    <tr>\n",
       "      <th>13</th>\n",
       "      <td>11</td>\n",
       "      <td>Herr Manfred Fröhlich</td>\n",
       "      <td>18</td>\n",
       "      <td>AT</td>\n",
       "      <td>Meine neue optische Brille wurde von…</td>\n",
       "      <td>1</td>\n",
       "    </tr>\n",
       "    <tr>\n",
       "      <th>14</th>\n",
       "      <td>12</td>\n",
       "      <td>Vlad Tepes Draculea</td>\n",
       "      <td>9</td>\n",
       "      <td>AT</td>\n",
       "      <td>Habe Probleme wegen Krankenkassa…</td>\n",
       "      <td>1</td>\n",
       "    </tr>\n",
       "    <tr>\n",
       "      <th>15</th>\n",
       "      <td>13</td>\n",
       "      <td>Noras Abd</td>\n",
       "      <td>1</td>\n",
       "      <td>AT</td>\n",
       "      <td>Kündigung dauert 3 Jahre??</td>\n",
       "      <td>1</td>\n",
       "    </tr>\n",
       "    <tr>\n",
       "      <th>16</th>\n",
       "      <td>14</td>\n",
       "      <td>Yuriy Kostiv</td>\n",
       "      <td>3</td>\n",
       "      <td>UA</td>\n",
       "      <td>Sammeln die Schaden Informationen, um sie gege...</td>\n",
       "      <td>1</td>\n",
       "    </tr>\n",
       "    <tr>\n",
       "      <th>17</th>\n",
       "      <td>15</td>\n",
       "      <td>David M</td>\n",
       "      <td>1</td>\n",
       "      <td>AT</td>\n",
       "      <td>E-Mail Kundenservice scheinbar nicht existent</td>\n",
       "      <td>2</td>\n",
       "    </tr>\n",
       "    <tr>\n",
       "      <th>18</th>\n",
       "      <td>16</td>\n",
       "      <td>Nina</td>\n",
       "      <td>2</td>\n",
       "      <td>AT</td>\n",
       "      <td>„Ihre Sorgen möchten wir haben“</td>\n",
       "      <td>1</td>\n",
       "    </tr>\n",
       "    <tr>\n",
       "      <th>19</th>\n",
       "      <td>17</td>\n",
       "      <td>T.T</td>\n",
       "      <td>3</td>\n",
       "      <td>JM</td>\n",
       "      <td>Man zahlt jahrzehnte die…</td>\n",
       "      <td>1</td>\n",
       "    </tr>\n",
       "    <tr>\n",
       "      <th>20</th>\n",
       "      <td>18</td>\n",
       "      <td>Sylvia Redolfi</td>\n",
       "      <td>4</td>\n",
       "      <td>AT</td>\n",
       "      <td>Service Bescheiden...und das ist noch…</td>\n",
       "      <td>1</td>\n",
       "    </tr>\n",
       "    <tr>\n",
       "      <th>21</th>\n",
       "      <td>19</td>\n",
       "      <td>Johannes</td>\n",
       "      <td>3</td>\n",
       "      <td>AT</td>\n",
       "      <td>Zahlt nie</td>\n",
       "      <td>1</td>\n",
       "    </tr>\n",
       "  </tbody>\n",
       "</table>\n",
       "</div>"
      ],
      "text/plain": [
       "    index               username  #_of_reviews_per_user country  \\\n",
       "0       0                 Ri Chi                      4      AT   \n",
       "1       1       Daniela Landauer                      2      AT   \n",
       "2       0            Mario Lacky                      2      AT   \n",
       "3       1           Roman Berger                      3      AT   \n",
       "4       2       Velina Atanasova                      1      AT   \n",
       "5       3              Moonlight                      2      AT   \n",
       "6       4          Matthias Hahn                      1      AT   \n",
       "7       5             Gabi Bauer                      1      AT   \n",
       "8       6            Mirko Stani                      1      AT   \n",
       "9       7                    Uli                      1      AT   \n",
       "10      8                 Hannes                      2      AT   \n",
       "11      9          Stefan Hensel                      1      AT   \n",
       "12     10               wiseboar                      5      AT   \n",
       "13     11  Herr Manfred Fröhlich                     18      AT   \n",
       "14     12    Vlad Tepes Draculea                      9      AT   \n",
       "15     13              Noras Abd                      1      AT   \n",
       "16     14           Yuriy Kostiv                      3      UA   \n",
       "17     15                David M                      1      AT   \n",
       "18     16                   Nina                      2      AT   \n",
       "19     17                    T.T                      3      JM   \n",
       "20     18         Sylvia Redolfi                      4      AT   \n",
       "21     19               Johannes                      3      AT   \n",
       "\n",
       "                                         review_title  stars  \n",
       "0                ewige wartezeiten man muss quasi um…      1  \n",
       "1                        Keine Rückmeldungen auf Mais      1  \n",
       "2                                        Nie wieder..      1  \n",
       "3                   Sehr schlimm und grenzt an betrug      1  \n",
       "4                                          NIE WIEDER      1  \n",
       "5                      Meine Bewertung/ Meine Meinung      5  \n",
       "6                     Ich bin schon lange unzufrieden      1  \n",
       "7                   6 Monate auf Rückzahlung gewartet      1  \n",
       "8                  Drei Jahre Kunde, wurde 50% teurer      1  \n",
       "9                 Unfassbar schlechtes Kundenservice!      1  \n",
       "10                       Außer Späßen nichts gewesen.      1  \n",
       "11                              nach Kündigung einer…      1  \n",
       "12        NULL Kulanz, extrem langsam in der Reaktion      1  \n",
       "13              Meine neue optische Brille wurde von…      1  \n",
       "14                  Habe Probleme wegen Krankenkassa…      1  \n",
       "15                         Kündigung dauert 3 Jahre??      1  \n",
       "16  Sammeln die Schaden Informationen, um sie gege...      1  \n",
       "17      E-Mail Kundenservice scheinbar nicht existent      2  \n",
       "18                    „Ihre Sorgen möchten wir haben“      1  \n",
       "19                          Man zahlt jahrzehnte die…      1  \n",
       "20             Service Bescheiden...und das ist noch…      1  \n",
       "21                                          Zahlt nie      1  "
      ]
     },
     "execution_count": 53,
     "metadata": {},
     "output_type": "execute_result"
    }
   ],
   "source": [
    "#df of all reviews\n",
    "all_info = pd.concat(dataframes).reset_index()\n",
    "all_info"
   ]
  },
  {
   "cell_type": "code",
   "execution_count": 54,
   "id": "dc8dcb4b",
   "metadata": {},
   "outputs": [
    {
     "data": {
      "text/plain": [
       "country\n",
       "AT    20\n",
       "UA     1\n",
       "JM     1\n",
       "Name: count, dtype: int64"
      ]
     },
     "execution_count": 54,
     "metadata": {},
     "output_type": "execute_result"
    }
   ],
   "source": [
    "all_info.country.value_counts()"
   ]
  },
  {
   "cell_type": "code",
   "execution_count": 56,
   "id": "aca8cd4e",
   "metadata": {},
   "outputs": [
    {
     "data": {
      "text/plain": [
       "1.2272727272727273"
      ]
     },
     "execution_count": 56,
     "metadata": {},
     "output_type": "execute_result"
    }
   ],
   "source": [
    "all_info.stars.mean()\n",
    "#1.2 as star average for Wienerstädtische (VIG) on Trustpilot"
   ]
  },
  {
   "cell_type": "markdown",
   "id": "8e198eb3",
   "metadata": {},
   "source": [
    "## ChatGPT Sentiment Analysis\n",
    "Trying ChatGPT sentiment analysis as it worked better than the machine learning model I created."
   ]
  },
  {
   "cell_type": "code",
   "execution_count": 58,
   "id": "32cf1b79",
   "metadata": {},
   "outputs": [
    {
     "data": {
      "text/html": [
       "<div>\n",
       "<style scoped>\n",
       "    .dataframe tbody tr th:only-of-type {\n",
       "        vertical-align: middle;\n",
       "    }\n",
       "\n",
       "    .dataframe tbody tr th {\n",
       "        vertical-align: top;\n",
       "    }\n",
       "\n",
       "    .dataframe thead th {\n",
       "        text-align: right;\n",
       "    }\n",
       "</style>\n",
       "<table border=\"1\" class=\"dataframe\">\n",
       "  <thead>\n",
       "    <tr style=\"text-align: right;\">\n",
       "      <th></th>\n",
       "      <th>Review</th>\n",
       "      <th>Sentiment_Score</th>\n",
       "      <th>Sentiment</th>\n",
       "    </tr>\n",
       "  </thead>\n",
       "  <tbody>\n",
       "    <tr>\n",
       "      <th>0</th>\n",
       "      <td>Eternal waiting times, one practically has to ...</td>\n",
       "      <td>-0.70</td>\n",
       "      <td>Negative</td>\n",
       "    </tr>\n",
       "    <tr>\n",
       "      <th>1</th>\n",
       "      <td>No feedback on emails, long waiting times for ...</td>\n",
       "      <td>-0.80</td>\n",
       "      <td>Negative</td>\n",
       "    </tr>\n",
       "    <tr>\n",
       "      <th>2</th>\n",
       "      <td>They scam you from start to finish, don't let ...</td>\n",
       "      <td>-0.90</td>\n",
       "      <td>Negative</td>\n",
       "    </tr>\n",
       "    <tr>\n",
       "      <th>3</th>\n",
       "      <td>Very bad and bordering on fraud with their con...</td>\n",
       "      <td>-0.95</td>\n",
       "      <td>Negative</td>\n",
       "    </tr>\n",
       "    <tr>\n",
       "      <th>4</th>\n",
       "      <td>Unfriendly, rude, and arrogant. If possible, I...</td>\n",
       "      <td>-0.85</td>\n",
       "      <td>Negative</td>\n",
       "    </tr>\n",
       "    <tr>\n",
       "      <th>5</th>\n",
       "      <td>I would say it depends on the advisor you choo...</td>\n",
       "      <td>0.70</td>\n",
       "      <td>Positive</td>\n",
       "    </tr>\n",
       "    <tr>\n",
       "      <th>6</th>\n",
       "      <td>I have been dissatisfied for a long time. In 7...</td>\n",
       "      <td>-0.80</td>\n",
       "      <td>Negative</td>\n",
       "    </tr>\n",
       "    <tr>\n",
       "      <th>7</th>\n",
       "      <td>I bought a new car and got a better insurance ...</td>\n",
       "      <td>-0.90</td>\n",
       "      <td>Negative</td>\n",
       "    </tr>\n",
       "    <tr>\n",
       "      <th>8</th>\n",
       "      <td>The slogan shouldn't be \"we want your worries\"...</td>\n",
       "      <td>-0.90</td>\n",
       "      <td>Negative</td>\n",
       "    </tr>\n",
       "    <tr>\n",
       "      <th>9</th>\n",
       "      <td>Internal communication doesn't work at all, ha...</td>\n",
       "      <td>-0.80</td>\n",
       "      <td>Negative</td>\n",
       "    </tr>\n",
       "    <tr>\n",
       "      <th>10</th>\n",
       "      <td>Nothing but jokes.. unfortunately, there are n...</td>\n",
       "      <td>-0.90</td>\n",
       "      <td>Negative</td>\n",
       "    </tr>\n",
       "    <tr>\n",
       "      <th>11</th>\n",
       "      <td>After canceling an \"accident insurance\" that i...</td>\n",
       "      <td>-0.85</td>\n",
       "      <td>Negative</td>\n",
       "    </tr>\n",
       "    <tr>\n",
       "      <th>12</th>\n",
       "      <td>I wasn't informed about the \"comprehensive ins...</td>\n",
       "      <td>-0.85</td>\n",
       "      <td>Negative</td>\n",
       "    </tr>\n",
       "    <tr>\n",
       "      <th>13</th>\n",
       "      <td>My new optical glasses were accidentally damag...</td>\n",
       "      <td>0.75</td>\n",
       "      <td>Positive</td>\n",
       "    </tr>\n",
       "    <tr>\n",
       "      <th>14</th>\n",
       "      <td>I had problems with health insurance, they did...</td>\n",
       "      <td>-0.95</td>\n",
       "      <td>Negative</td>\n",
       "    </tr>\n",
       "    <tr>\n",
       "      <th>15</th>\n",
       "      <td>Despite cancellation for 3 years, money is deb...</td>\n",
       "      <td>-0.90</td>\n",
       "      <td>Negative</td>\n",
       "    </tr>\n",
       "    <tr>\n",
       "      <th>16</th>\n",
       "      <td>Partly my fault, partly a misunderstanding - I...</td>\n",
       "      <td>-0.90</td>\n",
       "      <td>Negative</td>\n",
       "    </tr>\n",
       "    <tr>\n",
       "      <th>17</th>\n",
       "      <td>The customer service email has not responded t...</td>\n",
       "      <td>-0.80</td>\n",
       "      <td>Negative</td>\n",
       "    </tr>\n",
       "    <tr>\n",
       "      <th>18</th>\n",
       "      <td>\"We want your worries\" the biggest prank of al...</td>\n",
       "      <td>-0.85</td>\n",
       "      <td>Negative</td>\n",
       "    </tr>\n",
       "    <tr>\n",
       "      <th>19</th>\n",
       "      <td>You pay insurance premiums for decades, but wh...</td>\n",
       "      <td>-0.90</td>\n",
       "      <td>Negative</td>\n",
       "    </tr>\n",
       "    <tr>\n",
       "      <th>20</th>\n",
       "      <td>Service modest... and that's putting it more t...</td>\n",
       "      <td>-0.95</td>\n",
       "      <td>Negative</td>\n",
       "    </tr>\n",
       "    <tr>\n",
       "      <th>21</th>\n",
       "      <td>I have been a customer for 25 years (HHV) and ...</td>\n",
       "      <td>-0.85</td>\n",
       "      <td>Negative</td>\n",
       "    </tr>\n",
       "  </tbody>\n",
       "</table>\n",
       "</div>"
      ],
      "text/plain": [
       "                                               Review  Sentiment_Score  \\\n",
       "0   Eternal waiting times, one practically has to ...            -0.70   \n",
       "1   No feedback on emails, long waiting times for ...            -0.80   \n",
       "2   They scam you from start to finish, don't let ...            -0.90   \n",
       "3   Very bad and bordering on fraud with their con...            -0.95   \n",
       "4   Unfriendly, rude, and arrogant. If possible, I...            -0.85   \n",
       "5   I would say it depends on the advisor you choo...             0.70   \n",
       "6   I have been dissatisfied for a long time. In 7...            -0.80   \n",
       "7   I bought a new car and got a better insurance ...            -0.90   \n",
       "8   The slogan shouldn't be \"we want your worries\"...            -0.90   \n",
       "9   Internal communication doesn't work at all, ha...            -0.80   \n",
       "10  Nothing but jokes.. unfortunately, there are n...            -0.90   \n",
       "11  After canceling an \"accident insurance\" that i...            -0.85   \n",
       "12  I wasn't informed about the \"comprehensive ins...            -0.85   \n",
       "13  My new optical glasses were accidentally damag...             0.75   \n",
       "14  I had problems with health insurance, they did...            -0.95   \n",
       "15  Despite cancellation for 3 years, money is deb...            -0.90   \n",
       "16  Partly my fault, partly a misunderstanding - I...            -0.90   \n",
       "17  The customer service email has not responded t...            -0.80   \n",
       "18  \"We want your worries\" the biggest prank of al...            -0.85   \n",
       "19  You pay insurance premiums for decades, but wh...            -0.90   \n",
       "20  Service modest... and that's putting it more t...            -0.95   \n",
       "21  I have been a customer for 25 years (HHV) and ...            -0.85   \n",
       "\n",
       "   Sentiment  \n",
       "0   Negative  \n",
       "1   Negative  \n",
       "2   Negative  \n",
       "3   Negative  \n",
       "4   Negative  \n",
       "5   Positive  \n",
       "6   Negative  \n",
       "7   Negative  \n",
       "8   Negative  \n",
       "9   Negative  \n",
       "10  Negative  \n",
       "11  Negative  \n",
       "12  Negative  \n",
       "13  Positive  \n",
       "14  Negative  \n",
       "15  Negative  \n",
       "16  Negative  \n",
       "17  Negative  \n",
       "18  Negative  \n",
       "19  Negative  \n",
       "20  Negative  \n",
       "21  Negative  "
      ]
     },
     "execution_count": 58,
     "metadata": {},
     "output_type": "execute_result"
    }
   ],
   "source": [
    "chatgpt_vig_wienersta= pd.read_csv('VIG_wienerstae_chatgpt_sentiment - Sheet1.csv')\n",
    "chatgpt_vig_wienersta"
   ]
  },
  {
   "cell_type": "code",
   "execution_count": 60,
   "id": "e776694f",
   "metadata": {},
   "outputs": [
    {
     "data": {
      "text/plain": [
       "-0.7204545454545455"
      ]
     },
     "execution_count": 60,
     "metadata": {},
     "output_type": "execute_result"
    }
   ],
   "source": [
    "chatgpt_vig_wienersta.Sentiment_Score.mean()"
   ]
  },
  {
   "cell_type": "markdown",
   "id": "923f504f",
   "metadata": {},
   "source": [
    "The sentiment score seems to be overall very negative with average sentiment score of -0.72."
   ]
  },
  {
   "cell_type": "code",
   "execution_count": 61,
   "id": "eca607e1",
   "metadata": {},
   "outputs": [
    {
     "data": {
      "text/plain": [
       "Sentiment\n",
       "Negative    20\n",
       "Positive     2\n",
       "Name: count, dtype: int64"
      ]
     },
     "execution_count": 61,
     "metadata": {},
     "output_type": "execute_result"
    }
   ],
   "source": [
    "chatgpt_vig_wienersta.Sentiment.value_counts()"
   ]
  },
  {
   "cell_type": "markdown",
   "id": "783cedb3",
   "metadata": {},
   "source": [
    "There seems to be very negative sentiment on Trustpilot regarding Wienerstädtische Versicherung. 20 Negative reviews and 2 Positive with no neutral reviews. However, it is also important to note that this is only a sample size of 22 reviews, and therefore, it is likely not enough reviews to draw a solid/robust conclusion."
   ]
  },
  {
   "cell_type": "markdown",
   "id": "417d7eb2",
   "metadata": {},
   "source": [
    "I also asked ChatGPT to count the instances of each word (not including English stopwords):\n",
    "- `insurance`: 14 times\n",
    "- `service`: 9 times\n",
    "- `money`: 7 times\n",
    "- `customer`: 6 times\n",
    "- `time`: 6 times\n",
    "- `cancel`: 5 times\n",
    "- `claim`: 5 times\n",
    "- `email`: 5 times\n",
    "- `response`: 5 times\n",
    "- `bad`: 5 times\n",
    "\n",
    "From this analysis, I see various possible problem areas. For example, service and customer and ery frequently said; one might hypothesize that customer service could be a large problem for this company, similarly to UNIQA. I also see 'email' and 'response' rather frequently. This again could relate to customer service and the overall process of a claim- perhaps the company is bad at responding/sending emails to the customers in a timely manner, etc."
   ]
  },
  {
   "cell_type": "markdown",
   "id": "ccd5385c",
   "metadata": {},
   "source": [
    "## Combining Donau Versicherung with Wienerstädtische Versicherung (VIG companies) for larger sample size"
   ]
  },
  {
   "cell_type": "code",
   "execution_count": 70,
   "id": "95e82ab5",
   "metadata": {},
   "outputs": [
    {
     "data": {
      "text/html": [
       "<div>\n",
       "<style scoped>\n",
       "    .dataframe tbody tr th:only-of-type {\n",
       "        vertical-align: middle;\n",
       "    }\n",
       "\n",
       "    .dataframe tbody tr th {\n",
       "        vertical-align: top;\n",
       "    }\n",
       "\n",
       "    .dataframe thead th {\n",
       "        text-align: right;\n",
       "    }\n",
       "</style>\n",
       "<table border=\"1\" class=\"dataframe\">\n",
       "  <thead>\n",
       "    <tr style=\"text-align: right;\">\n",
       "      <th></th>\n",
       "      <th>Review</th>\n",
       "      <th>Sentiment_Score</th>\n",
       "      <th>Sentiment</th>\n",
       "      <th>Review</th>\n",
       "    </tr>\n",
       "  </thead>\n",
       "  <tbody>\n",
       "    <tr>\n",
       "      <th>0</th>\n",
       "      <td>Visa accepts Donau Versicherung as travel insu...</td>\n",
       "      <td>-0.50</td>\n",
       "      <td>Negative</td>\n",
       "      <td>NaN</td>\n",
       "    </tr>\n",
       "    <tr>\n",
       "      <th>1</th>\n",
       "      <td>Donau Versicherung was my home and liability i...</td>\n",
       "      <td>-0.80</td>\n",
       "      <td>Negative</td>\n",
       "      <td>NaN</td>\n",
       "    </tr>\n",
       "    <tr>\n",
       "      <th>2</th>\n",
       "      <td>No more Donau Versicherung - Despite the alleg...</td>\n",
       "      <td>-0.90</td>\n",
       "      <td>Negative</td>\n",
       "      <td>NaN</td>\n",
       "    </tr>\n",
       "    <tr>\n",
       "      <th>3</th>\n",
       "      <td>I switched my household insurance to my new e-...</td>\n",
       "      <td>-0.70</td>\n",
       "      <td>Negative</td>\n",
       "      <td>NaN</td>\n",
       "    </tr>\n",
       "    <tr>\n",
       "      <th>4</th>\n",
       "      <td>Called twice for a simple request, but the cus...</td>\n",
       "      <td>-0.80</td>\n",
       "      <td>Negative</td>\n",
       "      <td>NaN</td>\n",
       "    </tr>\n",
       "    <tr>\n",
       "      <th>5</th>\n",
       "      <td>Just spoke to the intermediary on the phone - ...</td>\n",
       "      <td>-0.70</td>\n",
       "      <td>Negative</td>\n",
       "      <td>NaN</td>\n",
       "    </tr>\n",
       "    <tr>\n",
       "      <th>6</th>\n",
       "      <td>Experiences with Donau Haus and especially leg...</td>\n",
       "      <td>-0.90</td>\n",
       "      <td>Negative</td>\n",
       "      <td>NaN</td>\n",
       "    </tr>\n",
       "    <tr>\n",
       "      <th>7</th>\n",
       "      <td>Now I have received a letter from Donau-Versic...</td>\n",
       "      <td>-0.50</td>\n",
       "      <td>Negative</td>\n",
       "      <td>NaN</td>\n",
       "    </tr>\n",
       "    <tr>\n",
       "      <th>8</th>\n",
       "      <td>Warning! Only take out health insurance with D...</td>\n",
       "      <td>-0.90</td>\n",
       "      <td>Negative</td>\n",
       "      <td>NaN</td>\n",
       "    </tr>\n",
       "    <tr>\n",
       "      <th>9</th>\n",
       "      <td>Unfortunately, I can't confirm the positive ex...</td>\n",
       "      <td>-0.80</td>\n",
       "      <td>Negative</td>\n",
       "      <td>NaN</td>\n",
       "    </tr>\n",
       "    <tr>\n",
       "      <th>10</th>\n",
       "      <td>Have been a customer of Donau Versicherung for...</td>\n",
       "      <td>0.50</td>\n",
       "      <td>Positive</td>\n",
       "      <td>NaN</td>\n",
       "    </tr>\n",
       "    <tr>\n",
       "      <th>11</th>\n",
       "      <td>Unfortunately, I cannot recommend Donau Versic...</td>\n",
       "      <td>-0.90</td>\n",
       "      <td>Negative</td>\n",
       "      <td>NaN</td>\n",
       "    </tr>\n",
       "    <tr>\n",
       "      <th>12</th>\n",
       "      <td>Donaudversicherung - never again! Incompetent ...</td>\n",
       "      <td>-0.90</td>\n",
       "      <td>Negative</td>\n",
       "      <td>NaN</td>\n",
       "    </tr>\n",
       "    <tr>\n",
       "      <th>13</th>\n",
       "      <td>Unfortunately, I can't share a positive experi...</td>\n",
       "      <td>-0.80</td>\n",
       "      <td>Negative</td>\n",
       "      <td>NaN</td>\n",
       "    </tr>\n",
       "    <tr>\n",
       "      <th>14</th>\n",
       "      <td>Processing of claims is smooth and quick. Top ...</td>\n",
       "      <td>0.80</td>\n",
       "      <td>Positive</td>\n",
       "      <td>NaN</td>\n",
       "    </tr>\n",
       "    <tr>\n",
       "      <th>15</th>\n",
       "      <td>I can only recommend Donau Versicherung. There...</td>\n",
       "      <td>0.80</td>\n",
       "      <td>Positive</td>\n",
       "      <td>NaN</td>\n",
       "    </tr>\n",
       "    <tr>\n",
       "      <th>16</th>\n",
       "      <td>Donau Versicherung - Unfortunately, I can't co...</td>\n",
       "      <td>-0.80</td>\n",
       "      <td>Negative</td>\n",
       "      <td>NaN</td>\n",
       "    </tr>\n",
       "    <tr>\n",
       "      <th>17</th>\n",
       "      <td>Unfortunately, I cannot recommend Donau Versic...</td>\n",
       "      <td>-0.70</td>\n",
       "      <td>Negative</td>\n",
       "      <td>NaN</td>\n",
       "    </tr>\n",
       "    <tr>\n",
       "      <th>18</th>\n",
       "      <td>ery satisfied customer for many years! Claims ...</td>\n",
       "      <td>0.90</td>\n",
       "      <td>Positive</td>\n",
       "      <td>NaN</td>\n",
       "    </tr>\n",
       "    <tr>\n",
       "      <th>19</th>\n",
       "      <td>Unfortunately, I have to say that I am very di...</td>\n",
       "      <td>-0.80</td>\n",
       "      <td>Negative</td>\n",
       "      <td>NaN</td>\n",
       "    </tr>\n",
       "    <tr>\n",
       "      <th>20</th>\n",
       "      <td>Have been a customer of Donau Versicherung for...</td>\n",
       "      <td>0.80</td>\n",
       "      <td>Positive</td>\n",
       "      <td>NaN</td>\n",
       "    </tr>\n",
       "    <tr>\n",
       "      <th>21</th>\n",
       "      <td>Unfortunately, I can't recommend Donau Versich...</td>\n",
       "      <td>-0.80</td>\n",
       "      <td>Negative</td>\n",
       "      <td>NaN</td>\n",
       "    </tr>\n",
       "    <tr>\n",
       "      <th>22</th>\n",
       "      <td>Donau Versicherung - Unfortunately, I can't ag...</td>\n",
       "      <td>-0.70</td>\n",
       "      <td>Negative</td>\n",
       "      <td>NaN</td>\n",
       "    </tr>\n",
       "    <tr>\n",
       "      <th>23</th>\n",
       "      <td>Top insurance company! Claims processing was q...</td>\n",
       "      <td>0.80</td>\n",
       "      <td>Positive</td>\n",
       "      <td>NaN</td>\n",
       "    </tr>\n",
       "    <tr>\n",
       "      <th>24</th>\n",
       "      <td>Unfortunately, I have had negative experiences...</td>\n",
       "      <td>-0.70</td>\n",
       "      <td>Negative</td>\n",
       "      <td>NaN</td>\n",
       "    </tr>\n",
       "    <tr>\n",
       "      <th>25</th>\n",
       "      <td>Beware! Deceptive practices!</td>\n",
       "      <td>-0.90</td>\n",
       "      <td>Negative</td>\n",
       "      <td>NaN</td>\n",
       "    </tr>\n",
       "    <tr>\n",
       "      <th>26</th>\n",
       "      <td>I can recommend Donau Versicherung. The claim ...</td>\n",
       "      <td>0.80</td>\n",
       "      <td>Positive</td>\n",
       "      <td>NaN</td>\n",
       "    </tr>\n",
       "    <tr>\n",
       "      <th>27</th>\n",
       "      <td>Donau Versicherung - Unfortunately, I cannot r...</td>\n",
       "      <td>-0.80</td>\n",
       "      <td>Negative</td>\n",
       "      <td>NaN</td>\n",
       "    </tr>\n",
       "    <tr>\n",
       "      <th>28</th>\n",
       "      <td>Positive experience with Donau Versicherung. T...</td>\n",
       "      <td>0.80</td>\n",
       "      <td>Positive</td>\n",
       "      <td>NaN</td>\n",
       "    </tr>\n",
       "    <tr>\n",
       "      <th>29</th>\n",
       "      <td>Unfortunately, I can only report negative expe...</td>\n",
       "      <td>-0.90</td>\n",
       "      <td>Negative</td>\n",
       "      <td>NaN</td>\n",
       "    </tr>\n",
       "    <tr>\n",
       "      <th>30</th>\n",
       "      <td>Beware of misleading information in the contex...</td>\n",
       "      <td>-0.90</td>\n",
       "      <td>Negative</td>\n",
       "      <td>NaN</td>\n",
       "    </tr>\n",
       "    <tr>\n",
       "      <th>31</th>\n",
       "      <td>Overall, I am satisfied with Donau Versicherun...</td>\n",
       "      <td>0.80</td>\n",
       "      <td>Positive</td>\n",
       "      <td>NaN</td>\n",
       "    </tr>\n",
       "    <tr>\n",
       "      <th>32</th>\n",
       "      <td>Unfortunately, I have to complain about Donau ...</td>\n",
       "      <td>-0.70</td>\n",
       "      <td>Negative</td>\n",
       "      <td>NaN</td>\n",
       "    </tr>\n",
       "    <tr>\n",
       "      <th>33</th>\n",
       "      <td>Donau Versicherung is a rip-off! I would advis...</td>\n",
       "      <td>-0.90</td>\n",
       "      <td>Negative</td>\n",
       "      <td>NaN</td>\n",
       "    </tr>\n",
       "    <tr>\n",
       "      <th>34</th>\n",
       "      <td>Unfortunately, I cannot recommend Donau Versic...</td>\n",
       "      <td>-0.80</td>\n",
       "      <td>Negative</td>\n",
       "      <td>NaN</td>\n",
       "    </tr>\n",
       "    <tr>\n",
       "      <th>35</th>\n",
       "      <td>Positive experience with Donau Versicherung. T...</td>\n",
       "      <td>0.80</td>\n",
       "      <td>Positive</td>\n",
       "      <td>NaN</td>\n",
       "    </tr>\n",
       "    <tr>\n",
       "      <th>36</th>\n",
       "      <td>Unfortunately, I can only advise against Donau...</td>\n",
       "      <td>-0.80</td>\n",
       "      <td>Negative</td>\n",
       "      <td>NaN</td>\n",
       "    </tr>\n",
       "    <tr>\n",
       "      <th>37</th>\n",
       "      <td>Beware of misleading information provided by D...</td>\n",
       "      <td>-0.90</td>\n",
       "      <td>Negative</td>\n",
       "      <td>NaN</td>\n",
       "    </tr>\n",
       "    <tr>\n",
       "      <th>38</th>\n",
       "      <td>NaN</td>\n",
       "      <td>-0.70</td>\n",
       "      <td>Negative</td>\n",
       "      <td>Eternal waiting times, one practically has to ...</td>\n",
       "    </tr>\n",
       "    <tr>\n",
       "      <th>39</th>\n",
       "      <td>NaN</td>\n",
       "      <td>-0.80</td>\n",
       "      <td>Negative</td>\n",
       "      <td>No feedback on emails, long waiting times for ...</td>\n",
       "    </tr>\n",
       "    <tr>\n",
       "      <th>40</th>\n",
       "      <td>NaN</td>\n",
       "      <td>-0.90</td>\n",
       "      <td>Negative</td>\n",
       "      <td>They scam you from start to finish, don't let ...</td>\n",
       "    </tr>\n",
       "    <tr>\n",
       "      <th>41</th>\n",
       "      <td>NaN</td>\n",
       "      <td>-0.95</td>\n",
       "      <td>Negative</td>\n",
       "      <td>Very bad and bordering on fraud with their con...</td>\n",
       "    </tr>\n",
       "    <tr>\n",
       "      <th>42</th>\n",
       "      <td>NaN</td>\n",
       "      <td>-0.85</td>\n",
       "      <td>Negative</td>\n",
       "      <td>Unfriendly, rude, and arrogant. If possible, I...</td>\n",
       "    </tr>\n",
       "    <tr>\n",
       "      <th>43</th>\n",
       "      <td>NaN</td>\n",
       "      <td>0.70</td>\n",
       "      <td>Positive</td>\n",
       "      <td>I would say it depends on the advisor you choo...</td>\n",
       "    </tr>\n",
       "    <tr>\n",
       "      <th>44</th>\n",
       "      <td>NaN</td>\n",
       "      <td>-0.80</td>\n",
       "      <td>Negative</td>\n",
       "      <td>I have been dissatisfied for a long time. In 7...</td>\n",
       "    </tr>\n",
       "    <tr>\n",
       "      <th>45</th>\n",
       "      <td>NaN</td>\n",
       "      <td>-0.90</td>\n",
       "      <td>Negative</td>\n",
       "      <td>I bought a new car and got a better insurance ...</td>\n",
       "    </tr>\n",
       "    <tr>\n",
       "      <th>46</th>\n",
       "      <td>NaN</td>\n",
       "      <td>-0.90</td>\n",
       "      <td>Negative</td>\n",
       "      <td>The slogan shouldn't be \"we want your worries\"...</td>\n",
       "    </tr>\n",
       "    <tr>\n",
       "      <th>47</th>\n",
       "      <td>NaN</td>\n",
       "      <td>-0.80</td>\n",
       "      <td>Negative</td>\n",
       "      <td>Internal communication doesn't work at all, ha...</td>\n",
       "    </tr>\n",
       "    <tr>\n",
       "      <th>48</th>\n",
       "      <td>NaN</td>\n",
       "      <td>-0.90</td>\n",
       "      <td>Negative</td>\n",
       "      <td>Nothing but jokes.. unfortunately, there are n...</td>\n",
       "    </tr>\n",
       "    <tr>\n",
       "      <th>49</th>\n",
       "      <td>NaN</td>\n",
       "      <td>-0.85</td>\n",
       "      <td>Negative</td>\n",
       "      <td>After canceling an \"accident insurance\" that i...</td>\n",
       "    </tr>\n",
       "    <tr>\n",
       "      <th>50</th>\n",
       "      <td>NaN</td>\n",
       "      <td>-0.85</td>\n",
       "      <td>Negative</td>\n",
       "      <td>I wasn't informed about the \"comprehensive ins...</td>\n",
       "    </tr>\n",
       "    <tr>\n",
       "      <th>51</th>\n",
       "      <td>NaN</td>\n",
       "      <td>0.75</td>\n",
       "      <td>Positive</td>\n",
       "      <td>My new optical glasses were accidentally damag...</td>\n",
       "    </tr>\n",
       "    <tr>\n",
       "      <th>52</th>\n",
       "      <td>NaN</td>\n",
       "      <td>-0.95</td>\n",
       "      <td>Negative</td>\n",
       "      <td>I had problems with health insurance, they did...</td>\n",
       "    </tr>\n",
       "    <tr>\n",
       "      <th>53</th>\n",
       "      <td>NaN</td>\n",
       "      <td>-0.90</td>\n",
       "      <td>Negative</td>\n",
       "      <td>Despite cancellation for 3 years, money is deb...</td>\n",
       "    </tr>\n",
       "    <tr>\n",
       "      <th>54</th>\n",
       "      <td>NaN</td>\n",
       "      <td>-0.90</td>\n",
       "      <td>Negative</td>\n",
       "      <td>Partly my fault, partly a misunderstanding - I...</td>\n",
       "    </tr>\n",
       "    <tr>\n",
       "      <th>55</th>\n",
       "      <td>NaN</td>\n",
       "      <td>-0.80</td>\n",
       "      <td>Negative</td>\n",
       "      <td>The customer service email has not responded t...</td>\n",
       "    </tr>\n",
       "    <tr>\n",
       "      <th>56</th>\n",
       "      <td>NaN</td>\n",
       "      <td>-0.85</td>\n",
       "      <td>Negative</td>\n",
       "      <td>\"We want your worries\" the biggest prank of al...</td>\n",
       "    </tr>\n",
       "    <tr>\n",
       "      <th>57</th>\n",
       "      <td>NaN</td>\n",
       "      <td>-0.90</td>\n",
       "      <td>Negative</td>\n",
       "      <td>You pay insurance premiums for decades, but wh...</td>\n",
       "    </tr>\n",
       "    <tr>\n",
       "      <th>58</th>\n",
       "      <td>NaN</td>\n",
       "      <td>-0.95</td>\n",
       "      <td>Negative</td>\n",
       "      <td>Service modest... and that's putting it more t...</td>\n",
       "    </tr>\n",
       "    <tr>\n",
       "      <th>59</th>\n",
       "      <td>NaN</td>\n",
       "      <td>-0.85</td>\n",
       "      <td>Negative</td>\n",
       "      <td>I have been a customer for 25 years (HHV) and ...</td>\n",
       "    </tr>\n",
       "  </tbody>\n",
       "</table>\n",
       "</div>"
      ],
      "text/plain": [
       "                                              Review   Sentiment_Score  \\\n",
       "0   Visa accepts Donau Versicherung as travel insu...            -0.50   \n",
       "1   Donau Versicherung was my home and liability i...            -0.80   \n",
       "2   No more Donau Versicherung - Despite the alleg...            -0.90   \n",
       "3   I switched my household insurance to my new e-...            -0.70   \n",
       "4   Called twice for a simple request, but the cus...            -0.80   \n",
       "5   Just spoke to the intermediary on the phone - ...            -0.70   \n",
       "6   Experiences with Donau Haus and especially leg...            -0.90   \n",
       "7   Now I have received a letter from Donau-Versic...            -0.50   \n",
       "8   Warning! Only take out health insurance with D...            -0.90   \n",
       "9   Unfortunately, I can't confirm the positive ex...            -0.80   \n",
       "10  Have been a customer of Donau Versicherung for...             0.50   \n",
       "11  Unfortunately, I cannot recommend Donau Versic...            -0.90   \n",
       "12  Donaudversicherung - never again! Incompetent ...            -0.90   \n",
       "13  Unfortunately, I can't share a positive experi...            -0.80   \n",
       "14  Processing of claims is smooth and quick. Top ...             0.80   \n",
       "15  I can only recommend Donau Versicherung. There...             0.80   \n",
       "16  Donau Versicherung - Unfortunately, I can't co...            -0.80   \n",
       "17  Unfortunately, I cannot recommend Donau Versic...            -0.70   \n",
       "18  ery satisfied customer for many years! Claims ...             0.90   \n",
       "19  Unfortunately, I have to say that I am very di...            -0.80   \n",
       "20  Have been a customer of Donau Versicherung for...             0.80   \n",
       "21  Unfortunately, I can't recommend Donau Versich...            -0.80   \n",
       "22  Donau Versicherung - Unfortunately, I can't ag...            -0.70   \n",
       "23  Top insurance company! Claims processing was q...             0.80   \n",
       "24  Unfortunately, I have had negative experiences...            -0.70   \n",
       "25                       Beware! Deceptive practices!            -0.90   \n",
       "26  I can recommend Donau Versicherung. The claim ...             0.80   \n",
       "27  Donau Versicherung - Unfortunately, I cannot r...            -0.80   \n",
       "28  Positive experience with Donau Versicherung. T...             0.80   \n",
       "29  Unfortunately, I can only report negative expe...            -0.90   \n",
       "30  Beware of misleading information in the contex...            -0.90   \n",
       "31  Overall, I am satisfied with Donau Versicherun...             0.80   \n",
       "32  Unfortunately, I have to complain about Donau ...            -0.70   \n",
       "33  Donau Versicherung is a rip-off! I would advis...            -0.90   \n",
       "34  Unfortunately, I cannot recommend Donau Versic...            -0.80   \n",
       "35  Positive experience with Donau Versicherung. T...             0.80   \n",
       "36  Unfortunately, I can only advise against Donau...            -0.80   \n",
       "37  Beware of misleading information provided by D...            -0.90   \n",
       "38                                                NaN            -0.70   \n",
       "39                                                NaN            -0.80   \n",
       "40                                                NaN            -0.90   \n",
       "41                                                NaN            -0.95   \n",
       "42                                                NaN            -0.85   \n",
       "43                                                NaN             0.70   \n",
       "44                                                NaN            -0.80   \n",
       "45                                                NaN            -0.90   \n",
       "46                                                NaN            -0.90   \n",
       "47                                                NaN            -0.80   \n",
       "48                                                NaN            -0.90   \n",
       "49                                                NaN            -0.85   \n",
       "50                                                NaN            -0.85   \n",
       "51                                                NaN             0.75   \n",
       "52                                                NaN            -0.95   \n",
       "53                                                NaN            -0.90   \n",
       "54                                                NaN            -0.90   \n",
       "55                                                NaN            -0.80   \n",
       "56                                                NaN            -0.85   \n",
       "57                                                NaN            -0.90   \n",
       "58                                                NaN            -0.95   \n",
       "59                                                NaN            -0.85   \n",
       "\n",
       "   Sentiment                                             Review  \n",
       "0   Negative                                                NaN  \n",
       "1   Negative                                                NaN  \n",
       "2   Negative                                                NaN  \n",
       "3   Negative                                                NaN  \n",
       "4   Negative                                                NaN  \n",
       "5   Negative                                                NaN  \n",
       "6   Negative                                                NaN  \n",
       "7   Negative                                                NaN  \n",
       "8   Negative                                                NaN  \n",
       "9   Negative                                                NaN  \n",
       "10  Positive                                                NaN  \n",
       "11  Negative                                                NaN  \n",
       "12  Negative                                                NaN  \n",
       "13  Negative                                                NaN  \n",
       "14  Positive                                                NaN  \n",
       "15  Positive                                                NaN  \n",
       "16  Negative                                                NaN  \n",
       "17  Negative                                                NaN  \n",
       "18  Positive                                                NaN  \n",
       "19  Negative                                                NaN  \n",
       "20  Positive                                                NaN  \n",
       "21  Negative                                                NaN  \n",
       "22  Negative                                                NaN  \n",
       "23  Positive                                                NaN  \n",
       "24  Negative                                                NaN  \n",
       "25  Negative                                                NaN  \n",
       "26  Positive                                                NaN  \n",
       "27  Negative                                                NaN  \n",
       "28  Positive                                                NaN  \n",
       "29  Negative                                                NaN  \n",
       "30  Negative                                                NaN  \n",
       "31  Positive                                                NaN  \n",
       "32  Negative                                                NaN  \n",
       "33  Negative                                                NaN  \n",
       "34  Negative                                                NaN  \n",
       "35  Positive                                                NaN  \n",
       "36  Negative                                                NaN  \n",
       "37  Negative                                                NaN  \n",
       "38  Negative  Eternal waiting times, one practically has to ...  \n",
       "39  Negative  No feedback on emails, long waiting times for ...  \n",
       "40  Negative  They scam you from start to finish, don't let ...  \n",
       "41  Negative  Very bad and bordering on fraud with their con...  \n",
       "42  Negative  Unfriendly, rude, and arrogant. If possible, I...  \n",
       "43  Positive  I would say it depends on the advisor you choo...  \n",
       "44  Negative  I have been dissatisfied for a long time. In 7...  \n",
       "45  Negative  I bought a new car and got a better insurance ...  \n",
       "46  Negative  The slogan shouldn't be \"we want your worries\"...  \n",
       "47  Negative  Internal communication doesn't work at all, ha...  \n",
       "48  Negative  Nothing but jokes.. unfortunately, there are n...  \n",
       "49  Negative  After canceling an \"accident insurance\" that i...  \n",
       "50  Negative  I wasn't informed about the \"comprehensive ins...  \n",
       "51  Positive  My new optical glasses were accidentally damag...  \n",
       "52  Negative  I had problems with health insurance, they did...  \n",
       "53  Negative  Despite cancellation for 3 years, money is deb...  \n",
       "54  Negative  Partly my fault, partly a misunderstanding - I...  \n",
       "55  Negative  The customer service email has not responded t...  \n",
       "56  Negative  \"We want your worries\" the biggest prank of al...  \n",
       "57  Negative  You pay insurance premiums for decades, but wh...  \n",
       "58  Negative  Service modest... and that's putting it more t...  \n",
       "59  Negative  I have been a customer for 25 years (HHV) and ...  "
      ]
     },
     "execution_count": 70,
     "metadata": {},
     "output_type": "execute_result"
    }
   ],
   "source": [
    "donau = pd.read_csv('chatgpt_vigDONAU_sentimentanalysis - .csv')\n",
    "donau.rename(columns = {'Sentiment Score':'Sentiment_Score'}, inplace = True)\n",
    "vig_table_total = pd.concat([donau, chatgpt_vig_wienersta], ignore_index = True)\n",
    "vig_table_total"
   ]
  },
  {
   "cell_type": "markdown",
   "id": "ef93cc52",
   "metadata": {},
   "source": [
    "Despite the odd formatting, it doesn't matter because the sentiment score and sentiment columns are correct"
   ]
  },
  {
   "cell_type": "code",
   "execution_count": 80,
   "id": "ecb163f2",
   "metadata": {},
   "outputs": [
    {
     "data": {
      "text/plain": [
       "-0.5041666666666668"
      ]
     },
     "execution_count": 80,
     "metadata": {},
     "output_type": "execute_result"
    }
   ],
   "source": [
    "vig_table_total.Sentiment_Score.mean()\n",
    "#overall pretty negative with -0.50. "
   ]
  },
  {
   "cell_type": "markdown",
   "id": "99dc138d",
   "metadata": {},
   "source": [
    "This is overall a very negative sentiment. However in comparison to UNIQA's sentiment score, it is slightly more positive. UNIQA's sentiment score was: -0.653 (more negative). It is also important to note however that UNIQA had a much larger sample size (126 reviews), whereas VIG's was much lower (60 reviews). *However, something also important to note is that because the sentiment does not vary widely in its sentiment variability, this sample size has proved to be an ok size."
   ]
  },
  {
   "cell_type": "code",
   "execution_count": 81,
   "id": "6605b604",
   "metadata": {},
   "outputs": [
    {
     "data": {
      "text/plain": [
       "Sentiment\n",
       "Negative    48\n",
       "Positive    12\n",
       "Name: count, dtype: int64"
      ]
     },
     "execution_count": 81,
     "metadata": {},
     "output_type": "execute_result"
    }
   ],
   "source": [
    "vig_table_total.Sentiment.value_counts()"
   ]
  },
  {
   "cell_type": "markdown",
   "id": "282f7760",
   "metadata": {},
   "source": [
    "VIG's ratio of positive to negative reviews is 1:4, while UNIQA's is 5:49. Manipulating the numbers a bit, if we multiply VIG's ratio by a factor of 11 (to set the total number of reviews almost equal), we get 11:44 which is much better than UNIQA's ratio of positive to negative reviews. However, it is still to be said if this means anything/is statistically significant."
   ]
  },
  {
   "cell_type": "markdown",
   "id": "994cf877",
   "metadata": {},
   "source": [
    "# Comparison with UNIQA \n",
    "\n",
    "## UNIQA vs. VIG \n",
    "I want to see if there is a difference between the sentiment scores of the companies, and also if there is an association between the sentiment scores and their respective companies."
   ]
  },
  {
   "cell_type": "markdown",
   "id": "a0a56882",
   "metadata": {},
   "source": [
    "# Robustness Checks"
   ]
  },
  {
   "cell_type": "markdown",
   "id": "23c236e4",
   "metadata": {},
   "source": [
    "## Qualitative Analysis"
   ]
  },
  {
   "cell_type": "markdown",
   "id": "b81f06cf",
   "metadata": {},
   "source": [
    "https://www.statista.com/statistics/901410/largest-insurance-groups-in-austria-by-market-share/\n",
    "\n",
    "https://www.advantageaustria.org/ae/zentral/branchen/banken-und-versicherungen/zahlen-und-fakten/zahlen-und-fakten.en.html\n",
    "\n",
    "\n",
    "According to statista.com (in 2019), the largest insurance group by market share in Austria is VIG, closely followed by UNIQA. Furthermore, according to advantageaustria.org, Austria's top insurance company (by volume of earned premiums- 2022) was Vienna Insurance Group AG Wiener Versicherung Gruppe, having earned almost twice the premiums of UNIQA. This being said, one reason that UNIQA might receive harsher and more negative critiques than VIG could be simply because UNIQA is the second top insurance company and customers could be subconciously using competitor comparison. Customers might be comparing their experiences with UNIQA to that of its competitor(s), and might know that VIG is the top insurance company- possibly with a better reputation- and therefore, this attitude be exacerbated in very negative and stressful times when rating the company. \n",
    "\n",
    "Even though most of my data comes from Austria, VIG has a larger market with companies in 30 countries, while UNIQA has companies in about 16. This might also add to the impression of differing reputations between the 2 companies."
   ]
  },
  {
   "cell_type": "markdown",
   "id": "148ece20",
   "metadata": {},
   "source": [
    "## Statistical Tests"
   ]
  },
  {
   "cell_type": "markdown",
   "id": "cd42a602",
   "metadata": {},
   "source": [
    "### Two-sample T-test"
   ]
  },
  {
   "cell_type": "markdown",
   "id": "1f7121b2",
   "metadata": {},
   "source": [
    "I want to see if the sentiment score means of UNIQA and VIG are the same or not. (Want to know if these groups are similar enough- and therefore that my analysis has significance and robustness).\n",
    "\n",
    "Null hypothesis: UNIQA sentiment scores = VIG sentiment scores (similar sentiment scores)\n",
    "\n",
    "Alt hypothesis: UNIQA sentiment scores != VIG sentiment scores (not similar sentiment scores)"
   ]
  },
  {
   "cell_type": "code",
   "execution_count": 86,
   "id": "db2e54f6",
   "metadata": {},
   "outputs": [],
   "source": [
    "#reading in UNIQA data\n",
    "chatgpt_sen_ana = pd.read_csv('UNIQA Trustpilot Reviews_ChatGPT Sentiment Analysis Table - Sheet1.csv')\n",
    "chatgpt_sen_ana.rename(columns = {'Sentiment Score':'Sentiment_Score'}, inplace = True)"
   ]
  },
  {
   "cell_type": "code",
   "execution_count": 113,
   "id": "1a14a85e",
   "metadata": {},
   "outputs": [],
   "source": [
    "#importing libraries\n",
    "import numpy as np\n",
    "from scipy import stats\n",
    "import statsmodels.api as sm\n",
    "from plotnine import *\n",
    "import warnings\n",
    "warnings.filterwarnings(\"ignore\")\n",
    "\n",
    "#VIG sentiment scores\n",
    "vig_sentiment_scores = list(vig_table_total['Sentiment_Score'])\n",
    "#UNIQA sentiment scores\n",
    "uniqa_sentiment_scores = list(chatgpt_sen_ana['Sentiment_Score'])\n",
    "\n",
    "#two-sided T-test for sentiment scores\n",
    "t_stat, p_value = stats.ttest_ind(vig_sentiment_scores, uniqa_sentiment_scores, equal_var=True)"
   ]
  },
  {
   "cell_type": "markdown",
   "id": "5bfd6d85",
   "metadata": {},
   "source": [
    "### Testing for sentiment score normality (to see if these data sets can compare to one another)"
   ]
  },
  {
   "cell_type": "code",
   "execution_count": 117,
   "id": "f676eca8",
   "metadata": {},
   "outputs": [
    {
     "data": {
      "image/png": "[encoded data removed]",
      "text/plain": [
       "<Figure size 640x480 with 1 Axes>"
      ]
     },
     "metadata": {
      "image/png": {
       "height": 480,
       "width": 640
      }
     },
     "output_type": "display_data"
    },
    {
     "data": {
      "text/plain": [
       "<Figure Size: (640 x 480)>"
      ]
     },
     "execution_count": 117,
     "metadata": {},
     "output_type": "execute_result"
    }
   ],
   "source": [
    "#Histogram showing distribution of Sentiment Scores for UNIQA (x axis = sentiment scores, y axis = count)\n",
    "(ggplot(chatgpt_sen_ana, aes(x = 'Sentiment_Score')) + geom_histogram(color = 'black', fill = 'lightblue') \n",
    " + theme_classic() + labs (title = 'UNIQA Sentiment Score Distribution'))"
   ]
  },
  {
   "cell_type": "markdown",
   "id": "d79e127c",
   "metadata": {},
   "source": [
    "The distribution of sentiment scores for UNIQA is not at all normal- it has a long right tail as the scores are all skewed to the left (negatively skewed)."
   ]
  },
  {
   "cell_type": "code",
   "execution_count": 121,
   "id": "8ee26cd6",
   "metadata": {},
   "outputs": [
    {
     "data": {
      "image/png": "[encoded data removed]",
      "text/plain": [
       "<Figure size 640x480 with 1 Axes>"
      ]
     },
     "metadata": {
      "image/png": {
       "height": 480,
       "width": 640
      }
     },
     "output_type": "display_data"
    },
    {
     "data": {
      "text/plain": [
       "<Figure Size: (640 x 480)>"
      ]
     },
     "execution_count": 121,
     "metadata": {},
     "output_type": "execute_result"
    }
   ],
   "source": [
    "#Histogram showing distribution of Sentiment Scores for VIG (x axis = sentiment scores, y axis = count)\n",
    "(ggplot(vig_table_total, aes(x = 'Sentiment_Score')) + geom_histogram(color = 'black', fill = 'pink') \n",
    " + theme_classic() + labs (title = 'VIG Sentiment Score Distribution'))"
   ]
  },
  {
   "cell_type": "markdown",
   "id": "c2aa88b0",
   "metadata": {},
   "source": [
    "The distribution of sentiment scores for VIG is also not at all normal- it has a long right tail as the scores are all skewed to the left (negatively skewed). However, the most negative sentiment scores as slightly more positive than those of UNIQA's- keeping in mind the very different sample sizes"
   ]
  },
  {
   "cell_type": "markdown",
   "id": "03df0d91",
   "metadata": {},
   "source": [
    "I wanted to check the insurance company's sentiment scores for normal distributions to be able to conduct a two-sample t-test. I found that both of the distributions were severly non-normal; however, given a sufficient sample size, the samples don't have to be normally distributed. Why? Due to the Central Limit Theorem- if the sample size is sufficient, the sampling mean tends to resemble the normal distribution. Because I have at least 50 observations for each insurance company, I chose to go ahead with my two-sample t-test."
   ]
  },
  {
   "cell_type": "code",
   "execution_count": 101,
   "id": "26038ab2",
   "metadata": {},
   "outputs": [
    {
     "name": "stdout",
     "output_type": "stream",
     "text": [
      "t_stat: 1.5769862087147986\n"
     ]
    }
   ],
   "source": [
    "print(f't_stat: {t_stat}')"
   ]
  },
  {
   "cell_type": "markdown",
   "id": "235144c3",
   "metadata": {},
   "source": [
    "The t-stat is the difference between the means of UNIQA and VIG's sentiment scores relative to their respective varitations. This t-stat of 1.57 shows that there IS some difference between the means of the two groups. But is it statistically significant?"
   ]
  },
  {
   "cell_type": "code",
   "execution_count": 103,
   "id": "02654674",
   "metadata": {},
   "outputs": [
    {
     "name": "stdout",
     "output_type": "stream",
     "text": [
      "p_value: 0.11651640413998966\n"
     ]
    }
   ],
   "source": [
    "print(f'p_value: {p_value}')"
   ]
  },
  {
   "cell_type": "markdown",
   "id": "3acf584d",
   "metadata": {},
   "source": [
    "The p-value is the probability of observing my data given that my null hypothesis is true. A p-value of 0.116 means that if there is no difference between the means of the two groups, there is a 11.6% chance of seeing the observed difference in means due to randomness. Therefore, because I have the significance level of 0.05, my p-value is greater and I can not reject the null. I conclude that there is no statistically significant difference between the means of the two groups at a 5% significance level. I can't confidently say that the observed differences in sentiment scores between the two companies is significant/different. They could possibly have occured by random chance (although of course, the scores aren't that different from one another) and not necesarily represent a true difference in customer sentiment. "
   ]
  },
  {
   "cell_type": "markdown",
   "id": "4e88e603",
   "metadata": {},
   "source": [
    "### Chi-square test of independence\n",
    "I want to see if there is a relationship between sentiment score (negative and positive) and insurance company (UNIQA and VIG)- 2 categorical variables.\n",
    "\n",
    "Null hypothesis: There is no relationship between the sentiment scores and insurance companies\n",
    "\n",
    "Alt hypothesis: There IS a relationship between the sentiment scores and insurance companies"
   ]
  },
  {
   "cell_type": "code",
   "execution_count": 132,
   "id": "199f4ada",
   "metadata": {},
   "outputs": [],
   "source": [
    "#coming up with counts of positive and negative reviews for each company\n",
    "vig_positive_count = vig_table_total.loc[vig_table_total['Sentiment'] == 'Positive', 'Sentiment'].count()\n",
    "vig_negative_count = vig_table_total.loc[vig_table_total['Sentiment'] == 'Negative', 'Sentiment'].count()\n",
    "uniqa_positive_count = chatgpt_sen_ana.loc[chatgpt_sen_ana['Sentiment'] == 'Positive', 'Sentiment'].count()\n",
    "uniqa_negative_count = chatgpt_sen_ana.loc[chatgpt_sen_ana['Sentiment'] == 'Negative', 'Sentiment'].count()\n",
    "\n",
    "#making a contingency table for Chi-square test of independence (seeing if ratios match expected frequencies)\n",
    "contingency_table = np.array([[vig_positive_count, vig_negative_count],\n",
    "                              [uniqa_positive_count, uniqa_negative_count]])\n"
   ]
  },
  {
   "cell_type": "code",
   "execution_count": 139,
   "id": "78f79d6f",
   "metadata": {},
   "outputs": [
    {
     "data": {
      "text/plain": [
       "array([[12, 48],\n",
       "       [10, 98]])"
      ]
     },
     "execution_count": 139,
     "metadata": {},
     "output_type": "execute_result"
    }
   ],
   "source": [
    "contingency_table"
   ]
  },
  {
   "cell_type": "code",
   "execution_count": 134,
   "id": "15d7c445",
   "metadata": {},
   "outputs": [],
   "source": [
    "#Chi-square test of independence for ratios of positive to negative reviews\n",
    "chi2_stat, p_value, dof, expected = stats.chi2_contingency(contingency_table)"
   ]
  },
  {
   "cell_type": "code",
   "execution_count": 140,
   "id": "72c6d263",
   "metadata": {},
   "outputs": [
    {
     "data": {
      "text/plain": [
       "3.0231631382316317"
      ]
     },
     "execution_count": 140,
     "metadata": {},
     "output_type": "execute_result"
    }
   ],
   "source": [
    "chi2_stat"
   ]
  },
  {
   "cell_type": "code",
   "execution_count": 136,
   "id": "7bc634f7",
   "metadata": {},
   "outputs": [
    {
     "data": {
      "text/plain": [
       "0.08208322167151476"
      ]
     },
     "execution_count": 136,
     "metadata": {},
     "output_type": "execute_result"
    }
   ],
   "source": [
    "p_value"
   ]
  },
  {
   "cell_type": "markdown",
   "id": "269c15d1",
   "metadata": {},
   "source": [
    "The p-value being 0.08 means that it is still above the 5% significance level. This means that if there truly is no association between sentiment and insurance company, then there would be an 8.2% chance of seeing a chi-square statistic as extreme as the one I produced (3.02). Even though this is a lower percentage, it is not below the 5% significance level and therefore, at the 5% significance level I can't reject the null and say that there is a association between sentiment score and insurance company."
   ]
  },
  {
   "cell_type": "code",
   "execution_count": 138,
   "id": "9f283074",
   "metadata": {},
   "outputs": [
    {
     "data": {
      "text/plain": [
       "array([[ 7.85714286, 52.14285714],\n",
       "       [14.14285714, 93.85714286]])"
      ]
     },
     "execution_count": 138,
     "metadata": {},
     "output_type": "execute_result"
    }
   ],
   "source": [
    "expected\n",
    "#top row = VIG positive:negative reviews\n",
    "#bottom row = UNIQA positive:negative reviews"
   ]
  },
  {
   "cell_type": "markdown",
   "id": "93052379",
   "metadata": {},
   "source": [
    "To further prove my conclusion above, the expected array looks very similar to my observed contingency table (the ratios of positive to negative reviews). Although this alone doesn't indicate no relationship between sentiment scores and insurance company, it DOES indicate that the observed ratios are close to what would be expected if there were no association between the variables (i.e. under the null hypothesis)."
   ]
  },
  {
   "cell_type": "markdown",
   "id": "e9d1cec7",
   "metadata": {},
   "source": [
    "## Confidence Intervals"
   ]
  },
  {
   "cell_type": "code",
   "execution_count": 151,
   "id": "ce54fa1b",
   "metadata": {},
   "outputs": [],
   "source": [
    "#confidence intervals for the sentiment scores (VIG)\n",
    "mean_vig = np.mean(vig_sentiment_scores)\n",
    "std_vig = np.std(vig_sentiment_scores)\n",
    "#vig overall CI\n",
    "vig_conf_interval = stats.t.interval(0.95, len(vig_sentiment_scores)-1, loc=mean_vig, scale=std_vig/np.sqrt(len(vig_sentiment_scores)))\n",
    "\n",
    "#CI for ratios of positive to negative reviews (just extra)\n",
    "prop_vig_positive = np.sum(vig_positive_count) / len(vig_sentiment_scores)\n",
    "prop_vig_negative = np.sum(vig_negative_count) / len(vig_sentiment_scores)\n",
    "vig_conf_interval_pos = sm.stats.proportion_confint(prop_vig_positive * len(vig_sentiment_scores), len(vig_sentiment_scores))\n",
    "vig_conf_interval_neg = sm.stats.proportion_confint(prop_vig_negative * len(vig_sentiment_scores), len(vig_sentiment_scores))"
   ]
  },
  {
   "cell_type": "code",
   "execution_count": 161,
   "id": "d78b68b6",
   "metadata": {},
   "outputs": [
    {
     "name": "stdout",
     "output_type": "stream",
     "text": [
      "VIG mean sentiment score: -0.5041666666666668\n",
      "VIG mean sentiment score 95% confidence interval: (-0.6707876956811086, -0.3375456376522249)\n"
     ]
    }
   ],
   "source": [
    "#95% confident that VIG's true mean sentiment score falls within this interval \n",
    "print(f'VIG mean sentiment score: {mean_vig}')\n",
    "print(f'VIG mean sentiment score 95% confidence interval: {vig_conf_interval}')"
   ]
  },
  {
   "cell_type": "code",
   "execution_count": 153,
   "id": "fcd985c4",
   "metadata": {},
   "outputs": [],
   "source": [
    "#confidence intervals for the sentiment scores (UNIQA)\n",
    "mean_uniqa = np.mean(uniqa_sentiment_scores)\n",
    "std_uniqa = np.std(uniqa_sentiment_scores)\n",
    "#UNIQA overall CI\n",
    "uniqa_conf_interval = stats.t.interval(0.95, len(uniqa_sentiment_scores)-1, loc=mean_uniqa, scale=std_uniqa/np.sqrt(len(uniqa_sentiment_scores)))\n",
    "\n",
    "#CI for ratios of positive to negative reviews (just extra)\n",
    "prop_uniqa_positive = np.sum(uniqa_positive_count) / len(uniqa_sentiment_scores)\n",
    "prop_uniqa_negative = np.sum(uniqa_negative_count) / len(uniqa_sentiment_scores)\n",
    "uniqa_conf_interval_pos = sm.stats.proportion_confint(prop_uniqa_positive * len(uniqa_sentiment_scores), len(uniqa_sentiment_scores))\n",
    "uniqa_conf_interval_neg = sm.stats.proportion_confint(prop_uniqa_negative * len(uniqa_sentiment_scores), len(uniqa_sentiment_scores))"
   ]
  },
  {
   "cell_type": "code",
   "execution_count": 163,
   "id": "78560e09",
   "metadata": {},
   "outputs": [
    {
     "name": "stdout",
     "output_type": "stream",
     "text": [
      "UNIQA mean sentiment score: -0.6532539682539685\n",
      "UNIQA mean sentiment score 95% confidence interval: (-0.754904774758643, -0.551603161749294)\n"
     ]
    }
   ],
   "source": [
    "#95% confident that UNIQA's true mean sentiment score falls within this interval \n",
    "print(f'UNIQA mean sentiment score: {mean_uniqa}')\n",
    "print(f'UNIQA mean sentiment score 95% confidence interval: {uniqa_conf_interval}')"
   ]
  },
  {
   "cell_type": "markdown",
   "id": "36dd80db",
   "metadata": {},
   "source": [
    "This is important to note because UNIQA's confidence interval falls lower than VIG's with the low end of the \n",
    "spectrum being -0.75 in comparison to VIG's -0.67. Additionally, UNIQA's high end is still very low at -0.55 \n",
    "in comparison to VIG's high end at -0.33. **Lastly, both UNIQA and VIG's confidence intervals overlap (although by\n",
    "a small amount)- most likely meaning that the difference in estimates between the sentiment scores of the two\n",
    "insurance companies is statistically insignificant.**"
   ]
  },
  {
   "cell_type": "markdown",
   "id": "c480ae71",
   "metadata": {},
   "source": [
    "## Interesting Conclusions and Possible Explanation"
   ]
  },
  {
   "cell_type": "markdown",
   "id": "bc29211d",
   "metadata": {},
   "source": [
    "Starting from the beginning of this data story, I saw the facts:\n",
    "- VIG was the #1 Insurance Company in Austria\n",
    "- UNIQA was 2nd...\n",
    "\n",
    "I took that to believe that it was probable that VIG reviews would be much higher and customer sentiment would be overall more positive than those of UNIQA.\n",
    "\n",
    "After attempting to pull data for VIG, I was confused as no 'VIG' company/business on these review sites existed. Other names were coming up every time I would type in 'VIG'. I came to understand that VIG has a multi-brand strategy in which they offer their services 'through 2-4 local brands in each foreign market' (Schuh and Mayrhofer). After realizing that VIG was a holding company, I took the top sub-insurance companies from the Austrian market and analyzed the customer sentiment. It soon became clear to me that there was much less data on these VIG companies, and that the sentiment seemed to be very similar to that of UNIQA's- negative. After conducting robustness checks (two-sided t-tests, chi-square tests of independence, finding customer sentiment confidence intervals), I realized that UNIQA and VIG were not very different (at least at a 5% significance level). \n",
    "\n",
    "It began to make more sense to me: VIG had done something very smart in terms of branding. *Of course, I barely have any data from either UNIQA or VIG, so MUCH more research would have to be done to see if this truly means anything* If VIG holds many companies, each with different names, then customers have no way to associate that with VIG; UNIQA on the other hand, took the single-branding strategy and put their name on all of their insurances in every country where they are represented. Whether that is a good thing, or a bad, still stands to be seen once more research is done- preferably on a much larger data set, with better resources. *As the results were statistically insignificant, it could also mean that 1) the impact is too small to be captured, or \n",
    "\n",
    "https://www.wu.ac.at/fileadmin/wu/d/cc/cee/3__Lehre/CaseStudies/Case_VIG_UNIQA_Schuh_Mayrhofer_May_2020.pdf\n",
    "\n",
    "\n"
   ]
  },
  {
   "cell_type": "code",
   "execution_count": null,
   "id": "a99d074a",
   "metadata": {},
   "outputs": [],
   "source": []
  }
 ],
 "metadata": {
  "kernelspec": {
   "display_name": "Python 3 (ipykernel)",
   "language": "python",
   "name": "python3"
  },
  "language_info": {
   "codemirror_mode": {
    "name": "ipython",
    "version": 3
   },
   "file_extension": ".py",
   "mimetype": "text/x-python",
   "name": "python",
   "nbconvert_exporter": "python",
   "pygments_lexer": "ipython3",
   "version": "3.11.5"
  }
 },
 "nbformat": 4,
 "nbformat_minor": 5
}
