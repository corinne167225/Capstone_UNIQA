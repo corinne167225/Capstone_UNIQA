{
 "cells": [
  {
   "cell_type": "markdown",
   "id": "dbabf1e9",
   "metadata": {},
   "source": [
    "# UNIQA Google Reviews"
   ]
  },
  {
   "cell_type": "markdown",
   "id": "5bd3445f",
   "metadata": {},
   "source": [
    "### Importing Libraries"
   ]
  },
  {
   "cell_type": "code",
   "execution_count": 14,
   "id": "e366a70c",
   "metadata": {},
   "outputs": [],
   "source": [
    "from scrapethat import *\n",
    "import pandas as pd"
   ]
  },
  {
   "cell_type": "code",
   "execution_count": 15,
   "id": "669de273",
   "metadata": {},
   "outputs": [],
   "source": [
    "site = read_cloud('https://www.google.com/search?udm=1&q=UNIQA+Reviews&rflfq=1&num=20&stick=H4sIAAAAAAAAAONgkxI2sjC1tDAzNzeyNDYzMjaxNDY23MDI-IqRN9TPM9BRISi1LDO1vHgRKyofAGoPvwI6AAAA&rldimm=2859867729362349331&tbm=lcl&hl=en&sa=X&ved=0CBsQ9fQKKABqFwoTCJCmruKM_IUDFQAAAAAdAAAAABAH&biw=1440&bih=754&dpr=2#lkt=LocalPoiReviews')"
   ]
  },
  {
   "cell_type": "code",
   "execution_count": 16,
   "id": "a8ef7980",
   "metadata": {},
   "outputs": [
    {
     "data": {
      "text/plain": [
       "'Before you continue to Google SearchSign inSign inBefore you continue to GoogleWe use cookies and data toDeliver and maintain Google servicesTrack outages and protect against spam, fraud, and abuseMeasure audience engagement and site statistics to understand how our services are used and enhance the quality of those servicesIf you choose to “Accept all,” we will also use cookies and data toDevelop and improve new servicesDeliver and measure the effectiveness of adsShow personalized content, depending on your settingsShow personalized ads, depending on your settingsIf you choose to “Reject all,” we will not use cookies for these additional purposes.Non-personalized content is influenced by things like the content you’re currently viewing, activity in your active Search session, and your location. Non-personalized ads are influenced by the content you’re currently viewing and your general location. Personalized content and ads can also include more relevant results, recommendations, and tailored ads based on past activity from this browser, like previous Google searches. We also use cookies and data to tailor the experience to be age-appropriate, if relevant.Select “More options” to see additional information, including details about managing your privacy settings. You can also visit g.co/privacytools at any time.More optionsAfrikaansazərbaycanbosanskicatalàČeštinaCymraegDanskDeutscheestiEnglish\\xa0(United Kingdom)English\\xa0(United States)Español\\xa0(España)Español\\xa0(Latinoamérica)euskaraFilipinoFrançais\\xa0(Canada)Français\\xa0(France)GaeilgegalegoHrvatskiIndonesiaisiZuluíslenskaItalianoKiswahililatviešulietuviųmagyarMelayuNederlandsnorsko‘zbekpolskiPortuguês\\xa0(Brasil)Português\\xa0(Portugal)românăshqipSlovenčinaslovenščinasrpski (latinica)SuomiSvenskaTiếng ViệtTürkçeΕλληνικάбеларускаябългарскикыргызчақазақ тілімакедонскимонголРусскийсрпскиУкраїнськаქართულიհայերենעבריתاردوالعربيةفارسیአማርኛनेपालीमराठीहिन्दीঅসমীয়াবাংলাਪੰਜਾਬੀગુજરાતીଓଡ଼ିଆதமிழ்తెలుగుಕನ್ನಡമലയാളംසිංහලไทยລາວမြန်မာខ្មែរ한국어日本語简体中文繁體中文繁體中文\\xa0(香港)Privacy Policy Terms of Service'"
      ]
     },
     "execution_count": 16,
     "metadata": {},
     "output_type": "execute_result"
    }
   ],
   "source": [
    "site.get_text()"
   ]
  },
  {
   "cell_type": "code",
   "execution_count": null,
   "id": "3ffaea8d",
   "metadata": {},
   "outputs": [],
   "source": []
  }
 ],
 "metadata": {
  "kernelspec": {
   "display_name": "Python 3 (ipykernel)",
   "language": "python",
   "name": "python3"
  },
  "language_info": {
   "codemirror_mode": {
    "name": "ipython",
    "version": 3
   },
   "file_extension": ".py",
   "mimetype": "text/x-python",
   "name": "python",
   "nbconvert_exporter": "python",
   "pygments_lexer": "ipython3",
   "version": "3.11.5"
  }
 },
 "nbformat": 4,
 "nbformat_minor": 5
}
