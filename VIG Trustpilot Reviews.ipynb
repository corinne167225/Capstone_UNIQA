{
 "cells": [
  {
   "cell_type": "markdown",
   "id": "3389e780",
   "metadata": {},
   "source": [
    "# Vienna Insurance Group (VIG) Trustpilot Reviews\n",
    "It is important to note here that VIG Holding is the 'umbrella organization of the Vienna Insurance Group' and that \n",
    "VIG is made up of various other companies: VIG, Donau Versicherung, Wiener Städtische Versicherung. Therefore, I will be taking reviews from multiple 'seemingly different' companies, however, they are all components of the VIG- which is UNIQA's top competitor to date."
   ]
  },
  {
   "cell_type": "code",
   "execution_count": 60,
   "id": "a66cdaa8",
   "metadata": {},
   "outputs": [],
   "source": [
    "#importing libraries\n",
    "from scrapethat import *\n",
    "import pandas as pd\n",
    "from datetime import datetime\n",
    "import matplotlib.pyplot as plt"
   ]
  },
  {
   "cell_type": "markdown",
   "id": "19b5b217",
   "metadata": {},
   "source": [
    "Testing with the 1st page of the trust pilot website"
   ]
  },
  {
   "cell_type": "code",
   "execution_count": 61,
   "id": "7a09c1fd",
   "metadata": {},
   "outputs": [],
   "source": [
    "site = read_cloud('https://at.trustpilot.com/review/www.donauversicherung.at?languages=all')\n",
    "paragraphs = site.find_all('p')"
   ]
  },
  {
   "cell_type": "code",
   "execution_count": 62,
   "id": "2785a269",
   "metadata": {},
   "outputs": [
    {
     "data": {
      "text/plain": [
       "['Ich wurde vor ziemlich genau ZWEI Jahren von einer 85jährigen Dame mit ihrem Auto von hinten von meinem funkelnagelneuen Rennrad Scott Addict RC10 regelrecht runtergemäht, erlitt dabei einen Wirbelbruch uvm und mein Custom-Einzelstück (nicht mehr verfügbar in kompletter Dura-Ace-Ausstattung und Carbon-Laufradsatz) wurde nach nur 120km zerstört. Schuldfrage eindeutig. Die Donau will entgegen allgemeiner Meinung anstatt eines gleichwertigen Ersatzes (der natürlich etwas teurer ist) NUR den Kaufpreis erstatten. Um diesen Preis bekomm ich leider nur mehr ein viel geringerwertiges RR.Seitdem muss ich trotz Top-Rechtsschutzversicherung, Einschaltung ALLER offiziellen Beschwerdestellen und der Donau-eigenen Ombudsstelle um eine gerechte Entschädigung für das Rennrad kämpfen. Nebenbei wurde sogar mein Verdienstentgang (berechnet von einer Behörde!!!) in Frage gestellt und ich musste zusätzlich Gehaltszettel mehrerer Monate vorlegen. Erst vor wenigen Wochen wurde nach Klagsankündigung der Kaufpreis des RR und der Verdienstentgang überwiesen, natürlich OHNE Inflationsabgeltung und Zinsen (bei ca 12% Inflation)!! mMn eine unmögliche Art des Umgangs mit unschuldigen Unfallopfern!Zwei Jahre Ärger bei einem so einfachen Sachverhalt ist ein starkes Stück!',\n",
       " '15 Jahre lang teure Kfz-Versicherung für 300 PS Auto (ohne irgendeinen Schaden) bezahlt. Dann Ummeldung auf 60 PS Fahrzeug. Die Prämie wurde jedoch nur geringfügig reduziert. Zahlreiche Anfragen blieben unbeantwortet bzw. verwiesen lediglich auf meinen \"Berater\", der sich umgehend melden werde - was er nie tat. Schließlich meldete ich das Fahrzeug einfach ab und bei einer anderen Versicherung wieder an. Die € 200,- Anmeldegebühr waren durch die neue, weit geringere Prämie locker kompensiert. Prämien-Inkasso funktioniert, Kundenservice nicht vorhanden!',\n",
       " 'Very unimpressive.The good:- They assigned a english speaking agent to my case.The bad:- no investigation after the accident or even trying to assist so the other party has to pay.- no followup or letting me know whats happening. I had to call every week to see when I get a final decision.- after calling with initial report of the accident the agent calls and asks my statement again saying he cannot read his colleagues writing? Gues they never heard about computers.My recommendation: get legal support on top of insurance support.',\n",
       " 'Hatte 22 Jahre eine Betriebsversicherung,zum Schluß hatte ich einen Schaden € 12000.Bezahlt haben Sie € 700, der Stundensatz wurde mit€ 5,20 berechnet. (günstiger Elektriker) Würde nie wieder einen Vertrag bei der Donau abschließen.',\n",
       " 'Danke für die rasche und unbürokratische Schadensregulierung. Nach Meldung des Wasserschadens erfolgte rasche Schadensaufnahmeund Anerkennung des Schadens sowie Überweisungdes zuerkannten Betrages innerhalb von 3Tagen.Könnte für die perfekte Abwicklung auch 6 Sterne vergeben. Werde die DONAU  allen meinen Freunden und bekannten empfehlen.Ein herzliches DankeFamilie Karl und Renate Lehofer',\n",
       " 'ich mus sagen das ich a gurten freund habe der was wirklich dahinter ist und er auch ein sehr gurter betreuer auch ihn sehr schlechter zeiten und ich muß sagen er ist wirklich dahiner',\n",
       " 'Leider ist diese Versicherung in meinem Fall mehr als Unseriös.  Mein Fall als Geschädigter wird liegen gelassen, ich bekommen keine Antwort der Fall wird wochenlang nicht bearbeitet. Auf Nachfrage wird nur mäsig reagiert. Traurig Ob die Versicherung beim bezahlen von Versicherungsprämien auch so aggiert? ich wage es zu bezweifeln.',\n",
       " 'Ich war Mitarbeiterin im Vertrieb.Als ich schwanger wurde ging es bergab. Als mein Sohn zur Welt kam, wurde ich während meiner Bildungskarenz ohne Gründe gekündigt.Wirbt als Familienfreundliches Unternehmen, dabei ist genau der Gegenteil der Fall. Auch während der Ausbildungszeit wurde Druck ausgeübt soviele Verträge wie möglich zustandezubringen.',\n",
       " 'Hoffentlich hat nie jemand ein Schaden das die Donau Versicherung zahlen muss. Klassischer Auffahrunfall auf der Autobahn. Donau verweigert schon 2 Monate die Zahlung. Erst hat sich der Versicherungsnehmer nicht gemeldet dann warten sie jetzt auf ein Behörden Protokoll. Eine Schikane ohne Ende. Müssen jetzt ein Rechtsanwalt einschalten. Unser Sohn den das passiert ist fährt schon seit 2 Monate mit unserem Auto zur Lehrstelle sonst wäre er wahrscheinlich schon gekündigt worden. Wirklich Komplett unterirdisch was sich so eine Versicherung leistet. Da fehlen einem die Worte. Absolut unfähige Mittarbeiter. Ein no go',\n",
       " 'Seit Jahren die beste und zuverlässigste Versicherung welche ich je hatte. Die Unterstützung, Beratung und Abwicklung läuft immer problemlos. Absolute Empfehlung.',\n",
       " 'Leider kann man nicht NULL Sterne vergeben! Die Kommunikation mit diesem Unternehmen ist unterirdisch, um nicht zu sagen, nicht vorhanden. Wenn man etwas wissen möchte, bekommt man monatelang keine Antwort. Was aber zuverlässig funktioniert, ist, Zahlscheine, Mahnungen und Androhung von Inkasso zu verschicken. Bei mir betraf es einen Businessvertrag, den ich gekündigt habe. Wenn die Vorgehensweise in einem Schadensfall ähnlich schlecht ist, bin ich froh, die Versicherung rechtzeitig verlassen zu haben. Da leg ich das Geld lieber unter den Kopfpolster und spare für schlechte Zeiten. Unglaublich, dass sich ein Unternehmen dieser Größe so einen Umgang mit Kunden leisten darf!',\n",
       " 'Bin nach Deutschland gezogen. Habe mehrmals angefragt, mir den Stufenachweis zu schicken.  Sie haben den Deutschen versicherer verweigert darauf einzusehen. Danach haben sie mir zugesgagt, den Nachweis nach meine alte Österreichische Adresse zu schicken, was nie passiert. Nach mehrmals hin und her, haben sie irgendwas den deutschen Versicherer zukommen lassen. An meiner Adresse, ist nie was angekommen, obwohl sie mehrmals bestätigt haben, dass sie es tun werden.Sehr viel Zeit und Aufwand!',\n",
       " 'Schlechter Arbeitgeber, obwohl die Voraussetzungen sehr gut passen würden, schlechte Arbeitsplatzsituation (hab ständig den Stuhl im Rücken gehabt), und Mobbing seitens der Kollegin, NICHT ZU EMPFEHLEN und schade, um mein investierte Zeit!Dafür kämpft man bei zich Terminen durch, den Job zu bekommen, dass man nach Monaten am Boden der Tatsache zurück gekommen ist u sieht, wie der Schein trügen kann, leider!!',\n",
       " 'Ich habe zum ersten mal ein Auto angemeldet und es ist vollkommen kompliziert geworden, da mein Berater nicht in der Lage ist sich zu merken, dass ich die Versicherungsbestätigung von Ihm erhalten habe, damit er meinen Antrag weiterleitet um mein Vertrag polizzieren zu lassen. Ich warte seit einem Monat und werde noch mindestens 2 Wochen warten. Bin sehr unzufrieden. Ich würde bei Möglichkeit sogar eine Minus-Bewertung abgeben. Kann den Leuten die Donau Versicherung nur abraten.',\n",
       " 'Ich habe eine Betriebsunterbrechungsversicherung. Seit über 2 Monaten warte ich auf eine Zahlung. Es werden immer wieder neue Unterlagen angefordert, der Arzt soll die ganze Karteikarte offen darlegen, obwohl es sich nur um eine akute vorübergehende Erkrankung handelt. Nicht einmal eine Anzahlung wird überwiesen. Der Sachbearbeiter reagiert kaum... ich kann diese Versicherung absolut nicht empfehlen!',\n",
       " 'Versicherungen unterscheiden sich doch deutlich wenn es darum geht im Schadensfall zu leisten oder nicht.Im konkreten Fall einer Gebäudeversicherung, wurde ein Folgeschaden durch Wasseraustritt einfach nicht bezahlt, mit der Begründung, dass es kein echter Rohrbruch war. D.h. es müsste ein Rohr brechen (Tropfen reicht nicht) und getauscht werden, damit auch der Folgeschaden an der Pumpe gedeckt ist.Versicherungen unterscheiden sich auch stark beim Kundenservice: Bei Nachfrage zum Hintergrund war der Sachbearbeiter Danny G. ungeduldig und genervt.Ich habe bei einer anderen Versicherung (UNIQA) mit ähnlichen Fällen zum Glück ganz andere Deckungen und Kundenerlebnisse gehabt. Ich kann von der DONAU Versicherung, jedenfalls bei Gebäudeversicherungen nur abraten.',\n",
       " 'Unglaublich - Nach über 25 Jahren ein ernster Hagel- und Sturmschaden. Nach mühevollem Prozedere mit 3 Gutachterbesuchen (die sogar vermehrt in meinem Sinne argumentierten !) dann nur Teilabgeltung der Schäden und dann als Draufgabe noch einfach einseitige Kündigung der Sturmversicherung durch Donau binnen 1 Monat ohne Erklärung. Mehrere Nachbarn mit ähnlichen Schäden waren bei anderer,  Versicherung problemlos entschädigt worden - und ohne anschließende Kündigung.Bin froh zu wechseln ! Nie mehr bei Donau.',\n",
       " 'Bin in einen 10-Jahres-Vertrag für Privat Wohnen geschlittert. Natürlich war es auch mein Fehler, da ich das Kleingedruckte nicht gelesen habe. Habe kurze vor unserem Wohnungswechsel gekündigt. Dabei wurde mir immer mitgeteilt, dass der Vertrag erst frühestens 2024 gekündigt werden kann, da ich zu spät gekündigt habe. Nach monatelangem Kampf konnte ich endlich die Versicherung kündigen, da ich den Beweis bringen konnte, dass ich das Kündigungsschreiben schon vor Monaten geschrieben habe. Nichtmals eine Entschuldigung habe ich erhalten, obwohl das der Fehler der Versicherung war.Einzig positive: Ich bekommen die Prämien der letzten Monate zurück',\n",
       " 'Finger weg von der Donau-Versicherung! Hat mit langfristigem Vertrag für eine Praxisausfallsversicherung (bis 72. Lebensjahr) geworben und dann gekündigt, unter Hinweis darauf, dass der Vertrag nicht mehr zeitgemäß ist, als ich 69 Jahre alt war. Hat all die Jahre den Beitrag einkassiert und gekündigt, als das Risiko höher wurde. Dafür hat man aber eigentlich eine Versicherung',\n",
       " 'Herr Stevanovic hatte mich über mehrere Stunden für die Private Krankenversicherung Beraten und mit Fachabteilungen hin her alles abgeklärt und sein bestes gegeben und bin nach mehreren Stunden hin her wirklich ehrlich und bestens beraten worden!']"
      ]
     },
     "execution_count": 62,
     "metadata": {},
     "output_type": "execute_result"
    }
   ],
   "source": [
    "page1 = [paragraph.get_text() for paragraph in paragraphs[:73] if 'Datum' not in paragraph.get_text() and len(paragraph.get_text()) > 20 and 'Profil nicht' not in paragraph.get_text() and 'Vielen Dank' not in paragraph.get_text() and 'Sehr geehrter' not in paragraph.get_text() and 'Antwort von' not in paragraph.get_text()]"
   ]
  },
  {
   "cell_type": "code",
   "execution_count": 63,
   "id": "8fcb8f5c",
   "metadata": {},
   "outputs": [
    {
     "data": {
      "text/plain": [
       "20"
      ]
     },
     "execution_count": 63,
     "metadata": {},
     "output_type": "execute_result"
    }
   ],
   "source": [
    "len(page1)"
   ]
  },
  {
   "cell_type": "markdown",
   "id": "31c3ff6c",
   "metadata": {},
   "source": [
    "Defining function to get all pages from trustpilot"
   ]
  },
  {
   "cell_type": "code",
   "execution_count": 64,
   "id": "83936850",
   "metadata": {},
   "outputs": [],
   "source": [
    "def get_reviews(url):\n",
    "    try:\n",
    "        if url == 'https://at.trustpilot.com/review/www.donauversicherung.at?languages=all':\n",
    "            site = read_cloud(url)\n",
    "            paragraphs = site.find_all('p')\n",
    "            reviews = [paragraph.get_text() for paragraph in paragraphs[:73] if 'Datum' not in paragraph.get_text() and len(paragraph.get_text()) > 20 and 'Profil nicht' not in paragraph.get_text() and 'Vielen Dank' not in paragraph.get_text() and 'Sehr geehrter' not in paragraph.get_text() and 'Antwort von' not in paragraph.get_text()]\n",
    "        else:\n",
    "            \n",
    "        return reviews\n",
    "    except:\n",
    "        return None"
   ]
  },
  {
   "cell_type": "code",
   "execution_count": 71,
   "id": "f81dc5fe",
   "metadata": {},
   "outputs": [],
   "source": [
    "#gathering all trust pilot urls\n",
    "trust_pilot_urls = [f'https://at.trustpilot.com/review/www.donauversicherung.at?languages=all&page={i}' for i in range(2,3)]\n",
    "trust_pilot_urls.append('https://at.trustpilot.com/review/www.donauversicherung.at?languages=all')"
   ]
  },
  {
   "cell_type": "code",
   "execution_count": 72,
   "id": "1d5accd6",
   "metadata": {},
   "outputs": [
    {
     "data": {
      "text/plain": [
       "['https://at.trustpilot.com/review/www.donauversicherung.at?languages=all&page=2',\n",
       " 'https://at.trustpilot.com/review/www.donauversicherung.at?languages=all']"
      ]
     },
     "execution_count": 72,
     "metadata": {},
     "output_type": "execute_result"
    }
   ],
   "source": [
    "trust_pilot_urls"
   ]
  },
  {
   "cell_type": "code",
   "execution_count": 70,
   "id": "519b48ce",
   "metadata": {},
   "outputs": [],
   "source": [
    "#testing function\n",
    "get_reviews('h"
   ]
  },
  {
   "cell_type": "code",
   "execution_count": null,
   "id": "5a441b4e",
   "metadata": {},
   "outputs": [],
   "source": []
  },
  {
   "cell_type": "code",
   "execution_count": null,
   "id": "3cd24124",
   "metadata": {},
   "outputs": [],
   "source": []
  },
  {
   "cell_type": "code",
   "execution_count": 75,
   "id": "3f93d711",
   "metadata": {},
   "outputs": [],
   "source": [
    "site2 = read_cloud('https://at.trustpilot.com/review/www.donauversicherung.at?languages=all&page=2')\n",
    "paragraphs = site2.find_all('p')"
   ]
  },
  {
   "cell_type": "code",
   "execution_count": 89,
   "id": "d2d286b1",
   "metadata": {},
   "outputs": [
    {
     "data": {
      "text/plain": [
       "['Visa nimmt als Reiseversicherung die Donauversicherung, diese lagert einen Teil der Regulierungen an Call us aus. Es vergehen Monate, bevor man auf seine Einreichung eine Information erhält.',\n",
       " 'Donauversicherung war mein Eigenheim und Haftplichtversicherer. Meine damals 6. Jährige Tochter hat KFZ Lack des Nachbarn beschädigt.Versicherung wollte diesen Schaden NICHT übernehmen.- Argumentation war für mich absolut nicht schlüssig (auch für meinen Versicherungsvertreter und Anwalt NICHT)- An Email Antworten von der Schadensregulierung wurde mir klar, dass meine Emails NICHT sinnerfassend gelesen wurden. Das hat mich sehr geärgert, einem Kunden der immer pünktlich bezahlt hat, sollte man eine faire Schadensbeurteilung zukommen lassen (das war bei mir meiner Meinung nach NICHT der Fall).Da es schlussendlich \"nur\" um 350 Euro Schaden gegangen ist, habe ich zeitaufwendigen Rechtsweg nicht beschritten, obwohl mein Anwalt gut Chance für Erfolg gesehen hätte.Ich habe nun aufgrund der Erfahrungen die Donau Versicherung gekündigt.',\n",
       " 'Nie mehr Donau Versicherung - Trotz angeblichen Rabatt sind die Beiträge bei schlechteren Leistungen noch immer viel teurer als bei anderen Versicherungen. Trotz bisherigen pünktlichen Zahlungen durch SEPA Lastschrift (was auch eine Frechheit ist, wer bucht Beiträge um 3Uhr45 ab - die Donau!)war es nun mal so, dass die Donauvers. ihren Rabatt zurückfordert, wenn man Verträge kündigt (zwar zum Ende eines Versicherungsjahres aber doch noch vor Ende der Laufzeit). Dieser war mangels Kontodeckung nicht möglich (ende des Monatas) und ich bekam ein paar Tage später einen Brief mit \"INKASSO\". So geht man mit langjährigen Kunden nach Kündigungen um!!! Was dazukommt das diese Rückforderungsbeiträge schon 2 Monate bevor der Vertrag überhaupt endet abbucht. Nicht normal diese Handlung. Meine ganze Familie ist noch bei dieser Donauversicherung - jedoch nicht mehr lange!!!!NIE MEHR DONAU - VIEL ZU TEUER - KUNDENSERVICE 0',\n",
       " 'Ich habe meine Haushaltversicherung auf mein neues E-Bike umgestellt und diese wurde dann als neue Versicherung eingestuft und als ich nach 3 Jahren gekündigt habe, musste ich einen Aufschlag von 90 Euro zahlen.Ich habe an die Donau geschrieben und keine Antwort erhalten, nachdem ich angerufen und gedroht habe, meine Bank zu beauftragen, die Abbuchung zu stornieren, hat sich mein Vertreter endlich gemeldet.Miserabler Kundenservice',\n",
       " '2 Mal angerufen für ein simples Anliegen, jedoch war das Kundenservice zu unfähig meine Bankverbindung zu ändern. 2 mal meine Mail Adresse verlangt und beide Male nichts erhalten!!!',\n",
       " 'Gerade mit der Vermittlung telefoniert- was glaubt der Typ eigentlich wer er ist? Sowas von unfreundlich hab ich noch nie erlebt…. Für eine einfache Auskunft, nicht einmal ein Schadensfall',\n",
       " 'Danke, dass Sie uns Ihre Erfahrung mitteilen.Gerne würde wir Ihnen weiterhelfen! Bitte wenden Sie sich dazu an: ombudsstelle@donauversicherung.at.Herzlichen Dank!Ihre DONAU Versicherung',\n",
       " 'Erfahrungen zur Donau Haus- und insbesondere Rechtsschutzversicherung.Bin bei Vertragsabschluss, ohne Hinweis des Versicherungsvertreters, in einen 10 jährig-bindenden Vertrag hinein gezogen worden.Natürlich hätte ich vor dem Unterschreiben des Vertrages alles Kleingedruckte Lesen müssen, habe ich aber leider nicht gemacht.Bei einer Schadensmeldung wurde lange, trotz vieler Anrufe und Schreiben, seitens dieser Versicherung nichts unternommen.Erst als ich kündigen wollte, kamen erste Reaktionen.Ich kann von dieser Versicherungsgesellschaft nur höchstens abraten !!!Niemals mehr Donau-Versicherungen !Und jetzt ist eine vorherige Kündigung nach drei Jahren nur durch eine Bezahlung von ca. 60% des Jahresbeitrages möglich.So etwas nenne ich totale Abzocke.Daher mein Fazit: Niemals mehr Donau-Versicherungen !Dieter Pütz aus Schärding Oberösterreich',\n",
       " 'Jetzt habe ich von der Donau-Versicherung ein Schreiben vom 7.9.21 erhalten, mit welchem diese mir mitteilt, daß ich die Ablehnung den Wien-Tarif für meine Krankenversicherung zu erhalten nicht aufgrund meines individuellen, ärztliches Befundes bekomme, sondern daß es ausschließlich allgemeine versicherungsärztliche Überlegungen sind, die hier gegen mich angewandt wurden.Jetzt frage ich mich natürlich, warum dann Frau Katharina Gold wochenlang hinter den 3 Tages-Klinik-Befunden aus dem Jahre 2018 her war, wie der Teufel hinter einer Seele? Wenn doch mein Gesundheitszustand angeblich keine Rolle spielt?Ergo dessen ist es nun doch, wie ich angenommen habe, mein Alter! ACHTUNG !Schließen Sie bei der Donau-Versicherung nur eine Krankenversicherung ab, wenn Sie jung und gesund sind, sonst ergeht es Ihnen wie mir! Und vor allem entscheiden Sie sich von Anfang an für den Gesamttarif Österreich, auch wenn der Mitarbeiter der Donau-Versicherung meint, daß es ausreichend wäre, wenn Sie sich nur für ihr Bundesland entscheiden würden! Wenn Sie das tun, dann schnappt die Falle um Zuge eines Umzuges in ein anderes Bundesland zu! Und es ergeht Ihnen wie mir!',\n",
       " 'Über 20 Jahre und länger durften wir als Kunde brav einbezahlen und nun hatten wir die letzten Jahre ein paar Schäden und daraufhin wird der Vertrag gekündigt - als Betrieb haben wir diverse Versicherungen bei DONAU, das werden wir allerdings nun ändern!',\n",
       " 'Nie wieder  donau versicherung!  Reinste   katastrophe! Was  ich   da  mitgemacht habe geht sprichwörtlich auf  keine   kuhhaut!',\n",
       " 'Habe seit mehr als 10 Jahren eine Pensionsversicherung bei der Donau. Seit Dezember 2022 stand fest, dass ich mit 01.04.2023 in Pension gehe. Nachdem ich den Pensionsbescheid hatte, war ich bei dem zuständigen Vertreter und habe alles geregelt, was eh schon immer klar war (Auszahlung der Summe auf mein Konto, von dem die Donau mehr als 10 Jahre die Prämien eingezogen hat). Damals wurde mir gesagt, dass es bis zu 4 Wochen mit der Auszahlung dauern kann, ich verstehe nicht warum das so lange dauert, aber ja....Nach 6 Wochen ohne Auszahlung, schrieb ich an meinen Vertreter, und bekam von einen (Assistenten???) ein Antwort Mail, dass in dieser Woche mein Geld kommt, ohne Begründung, warum sich das verzögert. Es ist immer noch nicht da und morgen ist Feiertag. Diese Versicherung hat einen guten Service, bis zu dem Zeitpunkt der Unterschrift der Kunden unter den Vertrag. Wenn es an die Auszahlung geht, ist von Service nicht mehr zu sprechen.29.06.2023 nach der Antwort der DonauversicherungJa die Donauversicherung hat sich lapidar für die Verspätung entschuldigt und das Geld inzwischen (38 Tage nach Zahltermin) überwiesen. Mein Betreuer hat sich auch noch telefonisch entschuldigt.Die von mir verlangten Verzugszinsen hat die Donau aber erst nach der 2. Mahnung - dann aber innerhalb von ein paar Tagen - überwiesen und erst nachdem ich mit weiteren Mahnkosten, Anwalts- und Inkassogebühren gedroht habe. Guter Service wäre eine pünktliche Überweisung, wenn schon eine Verspätung, dann mit einer ordentlichen Begründung und einer freiwilligen Ausgleichszahlung. Nur soviel, die Verzugszinsen die sie bezahlt haben, waren im dreistelligen Euro Bereich.',\n",
       " 'super versicherung, sehr hilfsbereit immer da wenn man sie braucht.',\n",
       " 'Bei mir im Haus ( Einfamilienhaus in Siedlungslage )wurde eingebrochen ( 2 meter hoher Zaun überwunden , hinters Haus dort eine geschlossenes Rollo aufgebrochen danach Fliegengitter aus der Führung gerissen und danach durch das gekippte Fenster ins Haus eingedrungen wobei das Fenster auch beschädigt wurde) Die Donau Versicherung übernimmt keinerlei Schaden, ( Einbruch war Versichert) da der Einbrecher als letzte Instanz ja durch ein gekipptes Fenster eingestiegen ist. Ganz nach dem Motto von Donau Versicherungen \" So soll es sein\" für mich persönlich: NIE WIEDER eine Versicherung bei DONAU !',\n",
       " 'Super Betreuer hr. KUNTNER und flexible Schadenabteilung. Kann die DONAUVERSICHERUNG nur weiterempfehlen.',\n",
       " 'Hier das Veranlagungsergebnis aus über 20 Jahren eingezahlten Lebensversicherungsbeiträgen: 39.000 EURO einbezahlt, 34.000 EURO bei vorzeitiger Auflösung herausbekommen. Hier sprechen wir nicht von Gewinnanteilen, sondern einfach nur von systematischer Geldvernichtung. Nie wieder Lebensversicherung!',\n",
       " 'Der Mangel an Kommunikation stellt bei der Donauversicherung ein ernsthaftes Problem dar. Die Antwortdauer ist nicht nur lang, sondern man kann teilweise Froh sein wenn man ohne eine Beschwerde seitens des Versicherungsvermittlers überhaupt eine Antwort kommt. Aber Hauptsache man muss den Schaden innerhalb von 24h nach dem entstehen bekanntgeben...Die Selbstauferlegung von Antwortfristen von bis zu acht Wochen ist inakzeptabel und zeigt eindeutig ein Desinteresse an einer effektiven Kundenbetreuung. Außerdem wird diese von der Donauversicherung selbst auferlegte Frist teils nicht einmal eingehalten.Beim Melden des Schadenfalls ist es frustrierend, dass man nicht einmal eine einfache Bestätigungsmail mit einer Bearbeitungsnummer erhaltet (auch nicht im Spamordner). Obwohl ich das Online-Formular rechtzeitig eingereicht habe. Diese Art von Nicht-Kommunikation lässt den Kunden im Dunkeln und vermittelt das Gefühl, dass ihre Anliegen nicht ernst genommen werden. Glücklicherweise habe ich beim Absenden des Online Formulars die Schadensnummer mit einem Screenshot gesichert...sonst hätte ich keine Referenz.Die Tatsache, dass ich nur durch wiederholte Beschwerden über meinen Vermittler die Versicherungsleistung von der Sparkasse erlangen konnte, spricht Bände über die Unfähigkeit der Donauversicherung, angemessen auf Kundenanliegen zu reagieren.Nach einem monatelangen Emailverkehr wurde mir nach diversen von mir getätigten Beschwerde \"entgegenkommenderweise\" ein Schaden bezahlt, für den ich Versicherung bezahle. In meinem Versicherungspaket sind meine im Schaden aufgelisteten Punkte inbegriffen sein und somit sehe ich das nicht als ein Entgegenkommen. Die Bezeichnung Entgegenkommenderweise finde ich hier nur noch anmaßend. Als ich über eine weitere Beschwerde nachgefragt habe was diese Bezeichnung soll, kam unter einer gesetzten Frist wieder keine Antwort von der Versicherung. Aufgrund dieser negativen Erfahrungen mit der Donauversicherung kann ich nur dringend davon abraten, einen Vertrag mit denen einzugehen. Der Mangel an Kommunikation und die unzureichende Reaktionsfähigkeit sind ernsthafte Mängel, die das Vertrauen in das Unternehmen zu tiefst untergraben. Ich habe nun veranlasst, dass jegliche meiner Produkte, welche die Donauversicherung betreffen entfernt werden.',\n",
       " 'Seit 2 Monaten kein Lebenszeichen von der Bearbeiterin meiner Schadensnummer. Noch nicht einmal eine Empfangsbestätigung.',\n",
       " 'Eine Versicherung ohne Gewissen! ORF \"THEMA\" Fehler-bei-Geburt-Streit-um-Pflegekosten-mit-Versicherung/15370370']"
      ]
     },
     "execution_count": 89,
     "metadata": {},
     "output_type": "execute_result"
    }
   ],
   "source": [
    "page2 = [paragraph.get_text() for paragraph in paragraphs[15:57] if 'Datum' not in paragraph.get_text() and 'Antwort von Donau-' not in paragraph.get_text() and 'Sehr geehrter' not in paragraph.get_text()]\n",
    "page2"
   ]
  },
  {
   "cell_type": "code",
   "execution_count": null,
   "id": "26979e9c",
   "metadata": {},
   "outputs": [],
   "source": []
  },
  {
   "cell_type": "code",
   "execution_count": null,
   "id": "b0add67c",
   "metadata": {},
   "outputs": [],
   "source": []
  }
 ],
 "metadata": {
  "kernelspec": {
   "display_name": "Python 3 (ipykernel)",
   "language": "python",
   "name": "python3"
  },
  "language_info": {
   "codemirror_mode": {
    "name": "ipython",
    "version": 3
   },
   "file_extension": ".py",
   "mimetype": "text/x-python",
   "name": "python",
   "nbconvert_exporter": "python",
   "pygments_lexer": "ipython3",
   "version": "3.11.5"
  }
 },
 "nbformat": 4,
 "nbformat_minor": 5
}
