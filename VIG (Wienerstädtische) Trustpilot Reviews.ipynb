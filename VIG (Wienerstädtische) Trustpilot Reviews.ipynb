{
 "cells": [
  {
   "cell_type": "markdown",
   "id": "6f24fc52",
   "metadata": {},
   "source": [
    "# Vienna Insurance Group (VIG)- Wiener Städtische Versicherung Trustpilot Reviews\n",
    "It is important to note here that VIG Holding is the 'umbrella organization of the Vienna Insurance Group' and that \n",
    "VIG is made up of various other companies: VIG, Donau Versicherung, Wiener Städtische Versicherung. Therefore, I will be taking reviews from multiple 'seemingly different' companies, however, they are all components of the VIG- which is UNIQA's top competitor to date. This notebook is all about Wiener Städtische Versicherung."
   ]
  },
  {
   "cell_type": "code",
   "execution_count": 1,
   "id": "a66cdaa8",
   "metadata": {},
   "outputs": [],
   "source": [
    "#importing libraries\n",
    "from scrapethat import *\n",
    "import pandas as pd\n",
    "from datetime import datetime\n",
    "import matplotlib.pyplot as plt"
   ]
  },
  {
   "cell_type": "markdown",
   "id": "19b5b217",
   "metadata": {},
   "source": [
    "Testing with the 1st page of the trust pilot website"
   ]
  },
  {
   "cell_type": "code",
   "execution_count": 26,
   "id": "7a09c1fd",
   "metadata": {},
   "outputs": [],
   "source": [
    "site = read_cloud('https://at.trustpilot.com/review/www.wienerstaedtische.at')\n",
    "paragraphs = site.find_all('p')"
   ]
  },
  {
   "cell_type": "code",
   "execution_count": 24,
   "id": "fc2cb4ed",
   "metadata": {},
   "outputs": [],
   "source": [
    "page1 = [paragraph.get_text() for paragraph in paragraphs[15:54] if 'Datum' not in paragraph.get_text() and 'Profil nicht' not in paragraph.get_text() and 'Vielen Dank' not in paragraph.get_text() and 'Sehr geehrter' not in paragraph.get_text() and 'Antwort von' not in paragraph.get_text()]"
   ]
  },
  {
   "cell_type": "markdown",
   "id": "31c3ff6c",
   "metadata": {},
   "source": [
    "Defining function to get all pages from trustpilot"
   ]
  },
  {
   "cell_type": "code",
   "execution_count": 41,
   "id": "83936850",
   "metadata": {},
   "outputs": [],
   "source": [
    "def get_reviews(url):\n",
    "    try:\n",
    "        if url == 'https://at.trustpilot.com/review/www.wienerstaedtische.at':\n",
    "            site = read_cloud(url)\n",
    "            paragraphs = site.find_all('p')\n",
    "            reviews = [paragraph.get_text() for paragraph in paragraphs[15:54] if 'Datum' not in paragraph.get_text() and 'Profil nicht' not in paragraph.get_text() and 'Vielen Dank' not in paragraph.get_text() and 'Sehr geehrter' not in paragraph.get_text() and 'Antwort von' not in paragraph.get_text()]\n",
    "        else:\n",
    "            site = read_cloud(url)\n",
    "            paragraphs = site.find_all('p')\n",
    "            reviews = [paragraph.get_text() for paragraph in paragraphs[15:54] if 'Datum' not in paragraph.get_text() and 'Profil nicht' not in paragraph.get_text() and 'Vielen Dank' not in paragraph.get_text() and 'Sehr geehrter' not in paragraph.get_text() and 'Antwort von' not in paragraph.get_text()]\n",
    "            reviews = reviews[:2]\n",
    "        return reviews\n",
    "    except:\n",
    "        return None"
   ]
  },
  {
   "cell_type": "code",
   "execution_count": 42,
   "id": "f81dc5fe",
   "metadata": {},
   "outputs": [],
   "source": [
    "#gathering all trust pilot urls\n",
    "trust_pilot_urls = [f'https://at.trustpilot.com/review/www.wienerstaedtische.at?page={i}' for i in range(2,3)]\n",
    "trust_pilot_urls.append('https://at.trustpilot.com/review/www.wienerstaedtische.at')"
   ]
  },
  {
   "cell_type": "code",
   "execution_count": 43,
   "id": "1d5accd6",
   "metadata": {},
   "outputs": [
    {
     "data": {
      "text/plain": [
       "['https://at.trustpilot.com/review/www.wienerstaedtische.at?page=2',\n",
       " 'https://at.trustpilot.com/review/www.wienerstaedtische.at']"
      ]
     },
     "execution_count": 43,
     "metadata": {},
     "output_type": "execute_result"
    }
   ],
   "source": [
    "trust_pilot_urls"
   ]
  },
  {
   "cell_type": "code",
   "execution_count": 46,
   "id": "564e9a3d",
   "metadata": {},
   "outputs": [
    {
     "name": "stdout",
     "output_type": "stream",
     "text": [
      "\n"
     ]
    }
   ],
   "source": [
    "#testing function with page 1\n",
    "get_reviews('https://at.trustpilot.com/review/www.wienerstaedtische.at')\n",
    "print()"
   ]
  },
  {
   "cell_type": "code",
   "execution_count": 47,
   "id": "141f4347",
   "metadata": {},
   "outputs": [
    {
     "data": {
      "text/plain": [
       "[['ewige wartezeiten man muss quasi um Rückruf betteln Die Mitarbeiter schlafen',\n",
       "  'Keine Rückmeldungen auf Mais, lange Wartezeiten auf Auszahlungen, sehr enttäuschend!'],\n",
       " ['Verarschen einen von vorn bis hinten, lassen einen nicht kündigen und finden immer irgendwelche Ausreden und Sachen die angeblich nicht passen. Telefonische Serviceline auch inkompetent, die meinte auch eine Kündigung ist nicht möglich.. geholfen wurde da nicht.. als sich der Vertrag dann um ein Jahr verlängerte, war es dann doch möglich zu kündigen.. damit sie ein Jahr länger gezahlt bekommen..\"Ihre Sorgen möchten wir haben\" - Diese Versicherung ist meine einzige Sorge..',\n",
       "  'Sehr schlimm und grenzt an Betrug mit ihren vertägen wo die Angestellten nur auf gute Porvisionen Arbeiten das sie gewinne machen.Und nur zum vorteil der Versicherung der Wiener Staedtischen.Bei mir war es eine Begräbniskostenversicherung für die Begräbniss kosten.Habe weniger bekommen was ich überhaubt eingezahlt habe.Hätte ich mir mein geld gespart wäre ich viel besser ausgestiegen um Paar 1000 euro mehr hätte ich geld gehabt für das Begräbniss meiner Mutter.Kann keinem raten diese versicherung in anspruch zu nehmen.Und habe noch fast 2000 euro mehr zahlen können für das Begräbnis meiner Mutter.und das schlimmste war noch wie meine mutter gestorben ist haben die noch immer die raten abgebucht von meinem konto. Das sagt doch alles von so einer Versicherung nie wieder Wienerstaedtische!!!!!!!!!',\n",
       "  'Unfreundlich, unhöflich, und arrogant. Wenn möglich wäre, hätte ich 0 Sterne gegeben. Ich habe ein Schaden gehabt, telefonisch wurde mir gesagt, dass die Rechnung übernommen würde, haben sie aber nicht gemacht. Haben sogar meiner Telefonnummer blockiert, damit ich mich nicht beschweren kann. Könnte das nicht glauben. ',\n",
       "  'Ich würde sagen, es hängt vom Betreuer ab den man eben selbstständig auswählt, und einfach nur zu sagen dass die Wiener Städtische nichts deckt oder nichts tut ist ungerecht wenns nach dem geht sind alle Versicherungen gleich.Es kommt nur auf den Kundenservice an und ob der Berater da ist für dich! Und du dich auch selber wirklich ausdrücken kannst (normal) was du als Kunde beziehungsweiße Versicherungsnehmer brauchst und benötigst.',\n",
       "  'Ich bin schon lange unzufrieden. In 7 Jahren hatte ich 5 Versicherungsfälle wovon 3 abgelehnt wurden… Man fühlt als Kunde laufend im Stich gelassen. ',\n",
       "  'Ich habe mir ein neues Auto gekauft und von meinem Versicherungsvertreter einen besseren Versicherungsvertrag bekommen. Der Vertrag bei der Städtischen wurde gekündigt, aber die offen 420€ hatte ich nach 6 Monaten noch immer nicht rücküberwiesen bekommen.Erst nach einigen schriftlichen Beschwerden bekam ich dann mein Geld zurück. Ich bin überzeugt, wenn ich ein paar Tage überfällig bin mit einem Beitrag gilt der Versicherungsschutz nicht mehr und ich bekomme eine Mahnung. Aber die Versicherung zahlt Monate lang das Geld nicht aus, das ihnen nicht gehört.',\n",
       "  'Der Slogan sollte nicht heißen „ihre Sorgen wollen wir haben“ sondern lieber „ihre Kohle wollen wir haben“Drei Jahre Kunde mit KFZ Versicherung. In der Zeit wurde die Prämie bereits um 50% verteuert. Nach Schaden werde ich nun gekündigt. Eine absolute Katastrophe diese Versicherung. Lasst die Finger davon',\n",
       "  'Interne Kommunikation funktioniert gar nicht, die Abwicklung von Anliegen dauert sehr lange und ist sehr chaotisch, so, dass es einem selbst schwer fällt einen Überblick zu bewahren. Für mich als Kundin ist es sehr zeit- und energieaufwändig in Kontakt zu treten und Anliegen erledigt zu bekommen. Insgesamt sehr unzufriedenstellend!Ergänzung: Die einzelnen Mitarbeiter*innen sind meist bemüht, in ihrer Handhabe aufgrund des unrunden Systems und den vorhandenen Strukturen stark eingeschränkt - das ist für die Kund*innen und auch für die Mitarbeiter*innen sehr mühsam!',\n",
       "  'Außer Späßen nichts gewesen.. leider gehen keine -sterne ...komplett unfähige Mitarbeiter.. die bei einer Auto anmeldung nicht mal nachfragen und fehler rein Tippen aber 2 mal kassieren fürs anmelden und ummelden... da wundert mich ihr leitspruch\" ihre sorgen möchten wir haben\" nicht mehr...',\n",
       "  'nach Kündigung einer \"Unfallversicherung\" die nichts bringt, ausser du bist Versicherungsfachkraft und kannst im Krankenhaus liegend einn Formularberg ausdrucken und ausfüllen und retour schicken, kann ichjetzt noch ein ganzes Jahr bezahlen , weil bei diesem Verein ein Jahr im Oktober endet....f...k',\n",
       "  'Ich wurde nicht über die \"Kaskoantragsversicherung\" informiert. Beim ersten Schaden (Steinschlag) wurden somit €1000 Selbstbehalt verrechnet statt den vereinbarten €300. Ich kann zwar mit Bildern nachweisen, dass bei Kauf kein Steinschlag vorhanden war, das \"Entgegenkommen\" war dann (angeblich) eine Reduktion auf €660 -- angeblich weil ich auf die Rückerstattung seit Monaten warte. Jetzt wurde die Prämie auch noch erhöht.',\n",
       "  'Meine neue optische Brille wurde von meinem Enkerl unabsichtlich demoliert. Wert 650 Euro. Mein Schwiegerdohn reichte den Schaden ein. Es wurden 50 Euro gene migt. Danke Stättische. Gute Versicherung. Hauptsache abkassieren🤑',\n",
       "  'Habe Probleme wegen Krankenkassa gehabt, sie wollten mir mein Krankenkassageld nicht auszahlen obwohl ich Recht darauf gehabt hätte. War selber bei govno Versicherung und habe  1 Jahr lange meine Polizze bezahlt. Bin zu Versicherung gegangen und wollte Anwalt Hilfe  holen und mir wurde mein Anwalt abgelernt! Mit Ausrede govno Polizze wurde für diese Monat nicht bezahlt obwohl immer von Konto das Geld abgebucht wurde, Konto war deswegen immer im Plus! Was ist passiert habe  Polizze gekündigt ihn Jahr 2022 .Bin dann zu Arbeiterkammer gegangen und habe gegen  Krankenkassa Anzeige gemacht und habe mein Geld bekommen. Und ihn Jahr 2024 wurde mir gesagt das die Krankenkasse und AMS nicht übernommen wird, obwohl es zuerst hieß dass es gedeckt ist. Die Versicherung deckt AMS Geldbezug nicht wenn man Sperre bekommt, auch wenn es nicht gerechtfertigt ist und Krankenkassengeld ist auch in der Versicherung nicht enthalten, da die Versicherung da sieht das man einen Rechtsstreit nicht gewinnen kann. Man braucht als Arbeitsloser oder schwer Kranke brauchen dieses govno Versicherung nicht, da sie alleine im Kampf stehen gelassen werden.',\n",
       "  'Trotz kündigung seit 3 Jahren wird Geld von meine Konto abgebucht??? Ich habe deswegen 30 E-Mails geschrieben und immer war die einzige Antwort drauf dass die E-Mail weitergeleitet wird?? Weder auf E-Mails noch auf Anrufe antworten die!! Von mir 0,0 Sterne! Kundenservice existiert auch gefühlt nicht :)',\n",
       "  'Teils meine Schuld, teils ein Missverständnis – ich bekam Ärger mit der Hausverwaltung und die wollten mich rausschmeißen. Ich habe mich hilfesuchend an die Wiener Stedische gewandt, da ich dort eine Rechtsschutzversicherung hatte. Obwohl ich freie Anwaltswahl habe, wurde ich von der Versicherung gezwungen, ihre Anwälte zu konsultieren. Die haben alle Informationen von mir gesammelt und statt mir zu helfen, alles gegen mich benützt haben, um Hilfe abzulehnen. Darüber hinaus ist es offensichtlich, dass sie einfach die Hälfte davon nicht verstanden, aber nicht geklärt und nicht hinterfragt haben – keine Interesse. Das Problem mit der Hausverwaltung wurde Ich selber gelöst.',\n",
       "  'Seit mehreren Wochen reagiert die Kundenservice-Mail nicht auf meine Anfrage. Ich bekomme weiter Post, für die ich nicht zuständig bin, inklusive der Androhung rechtlicher Schritte gegen einen Verstorbenen (ich bin nicht Erbe).',\n",
       "  '„Ihre Sorgen möchten wir haben“ dr grösste prank aller zeitenwenni könnt täti 0 sterne geh, a paar schöne briaf kregt dass mine arztrechnunga bezüglich schwangerschaft ned übernoh weran, weli zum zeitpunkt der vertragserstellung in dr 2. woche schwanger war aber es NACHWEISLICH ned gwusst hon, trdm mussi versicherung zahla PLUS mine arztrechnunga (also  1.200,- + krankaversicherung 260,-) einfach 1.500€ für des dasi EIGENTLICH versichert wär des isch doch an witz, zahlt ma versicherung & denn muss ma doch alles andere oh sel zahlaih würds verstoh wenni bem untrschrieba im 2.-3. monat gsi wär, SRY ABER 2. WOCHE??!?!!!! do wär nedmol an test positiv gsi????  ih hon nochwiesa könna dass is zu dem zeitpunkt ned gwusst hon, clowns verein isch des',\n",
       "  'Man zahlt jahrzehnte die Versicherungsprämie doch wenn man dann eine leistung aus der versicherung beansprucht wird man gekündigt! Finger weg von dieser Versicherungsgesellschaft!!!',\n",
       "  'Service Bescheiden...und das ist noch mehr als freundlich ausgedrückt.Habe durch einen Treppensturz zwei Vorderzähne verloren. Zuerst mal einmal war es ein wahrer Hürdenlauf das Formular für die Unfallmeldung des Zahnarztes zu erhalten!Mitarbeiter ist nicht wirklich einer zuständig, ich denke wie bei einer Tombola - ziehe ein Los und dann schau was oder wer dabei rauskommt.Die Frage nach der Höhe der Deckung des Schades blieb bisher unbeantwortet. Aussagen sind eher so gehalten, dass alle interpretiert werden kann.Die Zahlung der Beträge aber werden pünktlich erwartet - nur Gott bewahre man braucht dann eine Leistung.Ich rate sehr von dieser Versicherung ab. Ist eher eine Frechheit wie man hier als Kunde behandelt wird.Ich renne den Antworten eher nach, als dass diese gleich bei der ersten E-Mail beantwortet werden.Schlecht ist noch freundlich - ich bin sicher es gibt bessere Unfallversicherungen.',\n",
       "  'Bin seit 25 Jahren Kunde (HHV) und egal um was es geht - zahlt nie. Irgendein diabolisches Kleingedrucktes finden sie immer um sich zu drücken.']]"
      ]
     },
     "execution_count": 47,
     "metadata": {},
     "output_type": "execute_result"
    }
   ],
   "source": [
    "#getting all reviews\n",
    "all_reviews = list(map(lambda url: get_reviews(url), trust_pilot_urls))\n",
    "all_reviews"
   ]
  },
  {
   "cell_type": "markdown",
   "id": "e1ac8345",
   "metadata": {},
   "source": [
    "### Now, want to try pandas df to draw multiple pieces of info from the reviews"
   ]
  },
  {
   "cell_type": "code",
   "execution_count": 49,
   "id": "b2711430",
   "metadata": {},
   "outputs": [],
   "source": [
    "site = read_cloud('https://at.trustpilot.com/review/www.wienerstaedtische.at')\n",
    "#username\n",
    "usernames = site.find_all('span', class_ = 'typography_heading-xxs__QKBS8 typography_appearance-default__AAY17')\n",
    "username_list = [username.get_text() for username in usernames]\n",
    "#amount of reviews per user on Trustpilot\n",
    "review_nums = site.find_all('span', class_ = 'typography_body-m__xgxZ_ typography_appearance-subtle__8_H2l')\n",
    "all_review_nums = [int(review_num.get_text().split()[0]) for review_num in review_nums][3:]\n",
    "#country/location of user\n",
    "countries = site.find_all('span', class_ = '')\n",
    "all_countries = [cun.get_text() for cun in countries if (len(cun.get_text()) < 4) and (cun.get_text() != '')]\n",
    "#title/header on review\n",
    "titles = site.find_all('h2', class_ = 'typography_heading-s__f7029 typography_appearance-default__AAY17')\n",
    "all_titles = [title.get_text() for title in titles]\n",
    "#stars given out of 5\n",
    "stars = site.find_all('img', alt = True)\n",
    "all_stars = [int(star['alt'].split()[2]) for star in stars if 'Bewertet' in star['alt']]\n"
   ]
  },
  {
   "cell_type": "code",
   "execution_count": 50,
   "id": "faf76764",
   "metadata": {},
   "outputs": [],
   "source": [
    "#function to create a dataframe out of Trustpilot reviews\n",
    "def get_all_info (site):\n",
    "    try:\n",
    "        site = read_cloud(site)\n",
    "        #username\n",
    "        usernames = site.find_all('span', class_ = 'typography_heading-xxs__QKBS8 typography_appearance-default__AAY17')\n",
    "        username_list = [username.get_text() for username in usernames]\n",
    "        #amount of reviews per user on Trustpilot\n",
    "        review_nums = site.find_all('span', class_ = 'typography_body-m__xgxZ_ typography_appearance-subtle__8_H2l')\n",
    "        all_review_nums = [int(review_num.get_text().split()[0]) for review_num in review_nums][3:]\n",
    "        #country/location of user\n",
    "        countries = site.find_all('span', class_ = '')\n",
    "        all_countries = [cun.get_text() for cun in countries if (len(cun.get_text()) < 4) and (cun.get_text() != '')]\n",
    "        #title/header on review\n",
    "        titles = site.find_all('h2', class_ = 'typography_heading-s__f7029 typography_appearance-default__AAY17')\n",
    "        all_titles = [title.get_text() for title in titles]\n",
    "        #stars given out of 5\n",
    "        stars = site.find_all('img', alt = True)\n",
    "        all_stars = [int(star['alt'].split()[2]) for star in stars if 'Bewertet' in star['alt']]\n",
    "        #DataFrame\n",
    "        data = {\n",
    "            'username':username_list,\n",
    "            '#_of_reviews_per_user': all_review_nums,\n",
    "            'country': all_countries,\n",
    "            'review_title':all_titles,\n",
    "            'stars':all_stars}\n",
    "#             'date_experienced':date_experienced_dt_objects,\n",
    "#             'date_experienced_weekdays':date_experienced_weekdays\n",
    "        df = pd.DataFrame(data)\n",
    "        return df\n",
    "    except:\n",
    "        return None"
   ]
  },
  {
   "cell_type": "code",
   "execution_count": 51,
   "id": "ccf83648",
   "metadata": {},
   "outputs": [],
   "source": [
    "#all review info\n",
    "dataframes = [get_all_info(url) for url in trust_pilot_urls]"
   ]
  },
  {
   "cell_type": "code",
   "execution_count": 121,
   "id": "c21ff7bf",
   "metadata": {},
   "outputs": [
    {
     "data": {
      "text/html": [
       "<div>\n",
       "<style scoped>\n",
       "    .dataframe tbody tr th:only-of-type {\n",
       "        vertical-align: middle;\n",
       "    }\n",
       "\n",
       "    .dataframe tbody tr th {\n",
       "        vertical-align: top;\n",
       "    }\n",
       "\n",
       "    .dataframe thead th {\n",
       "        text-align: right;\n",
       "    }\n",
       "</style>\n",
       "<table border=\"1\" class=\"dataframe\">\n",
       "  <thead>\n",
       "    <tr style=\"text-align: right;\">\n",
       "      <th></th>\n",
       "      <th>username</th>\n",
       "      <th>#_of_reviews_per_user</th>\n",
       "      <th>country</th>\n",
       "      <th>review_title</th>\n",
       "      <th>stars</th>\n",
       "    </tr>\n",
       "  </thead>\n",
       "  <tbody>\n",
       "    <tr>\n",
       "      <th>0</th>\n",
       "      <td>Oswald Trachsler</td>\n",
       "      <td>2</td>\n",
       "      <td>AT</td>\n",
       "      <td>Visa nimmt als Reiseversicherung die…</td>\n",
       "      <td>1</td>\n",
       "    </tr>\n",
       "    <tr>\n",
       "      <th>1</th>\n",
       "      <td>Stefan</td>\n",
       "      <td>1</td>\n",
       "      <td>AT</td>\n",
       "      <td>Haftplicht bei 6. Jähriger</td>\n",
       "      <td>1</td>\n",
       "    </tr>\n",
       "    <tr>\n",
       "      <th>2</th>\n",
       "      <td>Inge_ s</td>\n",
       "      <td>1</td>\n",
       "      <td>AT</td>\n",
       "      <td>Nie mehr Donau Versicherung</td>\n",
       "      <td>1</td>\n",
       "    </tr>\n",
       "    <tr>\n",
       "      <th>3</th>\n",
       "      <td>Michael Dean</td>\n",
       "      <td>9</td>\n",
       "      <td>GB</td>\n",
       "      <td>Miserabler Kundenservice - use any other company</td>\n",
       "      <td>1</td>\n",
       "    </tr>\n",
       "    <tr>\n",
       "      <th>4</th>\n",
       "      <td>Peter Pakson</td>\n",
       "      <td>10</td>\n",
       "      <td>AT</td>\n",
       "      <td>2 Mal angerufen für ein simples…</td>\n",
       "      <td>1</td>\n",
       "    </tr>\n",
       "    <tr>\n",
       "      <th>5</th>\n",
       "      <td>Sandra Deutschmann Held</td>\n",
       "      <td>12</td>\n",
       "      <td>AT</td>\n",
       "      <td>Unfreundlich</td>\n",
       "      <td>1</td>\n",
       "    </tr>\n",
       "    <tr>\n",
       "      <th>6</th>\n",
       "      <td>Dieter Pütz</td>\n",
       "      <td>1</td>\n",
       "      <td>AT</td>\n",
       "      <td>Erfahrungen zur Donau Haus- und…</td>\n",
       "      <td>1</td>\n",
       "    </tr>\n",
       "    <tr>\n",
       "      <th>7</th>\n",
       "      <td>Gabriela Kasagranda</td>\n",
       "      <td>10</td>\n",
       "      <td>DE</td>\n",
       "      <td>NIE UM AUSREDEN VERLEGEN !</td>\n",
       "      <td>1</td>\n",
       "    </tr>\n",
       "    <tr>\n",
       "      <th>8</th>\n",
       "      <td>B.</td>\n",
       "      <td>1</td>\n",
       "      <td>AT</td>\n",
       "      <td>Jahrelang darf man brav einzahlen und wenn man...</td>\n",
       "      <td>1</td>\n",
       "    </tr>\n",
       "    <tr>\n",
       "      <th>9</th>\n",
       "      <td>ewald kraus</td>\n",
       "      <td>3</td>\n",
       "      <td>AT</td>\n",
       "      <td>Nie wieder  donau versicherung</td>\n",
       "      <td>1</td>\n",
       "    </tr>\n",
       "    <tr>\n",
       "      <th>10</th>\n",
       "      <td>Uwe Wuensch</td>\n",
       "      <td>1</td>\n",
       "      <td>AT</td>\n",
       "      <td>Habe seit mehr als 10 Jahren eine…</td>\n",
       "      <td>1</td>\n",
       "    </tr>\n",
       "    <tr>\n",
       "      <th>11</th>\n",
       "      <td>Thomas Wallner</td>\n",
       "      <td>31</td>\n",
       "      <td>AT</td>\n",
       "      <td>super versicherung</td>\n",
       "      <td>1</td>\n",
       "    </tr>\n",
       "    <tr>\n",
       "      <th>12</th>\n",
       "      <td>Erik Franz</td>\n",
       "      <td>1</td>\n",
       "      <td>AT</td>\n",
       "      <td>Keine einzige Versicherung mehr über Donau-Ver...</td>\n",
       "      <td>1</td>\n",
       "    </tr>\n",
       "    <tr>\n",
       "      <th>13</th>\n",
       "      <td>Margit Schmidt</td>\n",
       "      <td>1</td>\n",
       "      <td>AT</td>\n",
       "      <td>Super Betreuung</td>\n",
       "      <td>5</td>\n",
       "    </tr>\n",
       "    <tr>\n",
       "      <th>14</th>\n",
       "      <td>Florian Zangerl</td>\n",
       "      <td>7</td>\n",
       "      <td>AT</td>\n",
       "      <td>Lebensversicherung zur Geldvernichtung</td>\n",
       "      <td>1</td>\n",
       "    </tr>\n",
       "    <tr>\n",
       "      <th>15</th>\n",
       "      <td>Student</td>\n",
       "      <td>1</td>\n",
       "      <td>AT</td>\n",
       "      <td>Schlechtester &amp; frustrierendster Service den i...</td>\n",
       "      <td>1</td>\n",
       "    </tr>\n",
       "    <tr>\n",
       "      <th>16</th>\n",
       "      <td>Philippe</td>\n",
       "      <td>5</td>\n",
       "      <td>AT</td>\n",
       "      <td>Seit 2 Monaten kein Lebenszeichen von…</td>\n",
       "      <td>1</td>\n",
       "    </tr>\n",
       "    <tr>\n",
       "      <th>17</th>\n",
       "      <td>Thomas Fischill</td>\n",
       "      <td>1</td>\n",
       "      <td>AT</td>\n",
       "      <td>Tolle Beratung</td>\n",
       "      <td>5</td>\n",
       "    </tr>\n",
       "    <tr>\n",
       "      <th>18</th>\n",
       "      <td>Florian Herzberg</td>\n",
       "      <td>2</td>\n",
       "      <td>DE</td>\n",
       "      <td>Eine Versicherung ohne Gewissen</td>\n",
       "      <td>1</td>\n",
       "    </tr>\n",
       "  </tbody>\n",
       "</table>\n",
       "</div>"
      ],
      "text/plain": [
       "                   username  #_of_reviews_per_user country  \\\n",
       "0          Oswald Trachsler                      2      AT   \n",
       "1                    Stefan                      1      AT   \n",
       "2                   Inge_ s                      1      AT   \n",
       "3              Michael Dean                      9      GB   \n",
       "4              Peter Pakson                     10      AT   \n",
       "5   Sandra Deutschmann Held                     12      AT   \n",
       "6               Dieter Pütz                      1      AT   \n",
       "7       Gabriela Kasagranda                     10      DE   \n",
       "8                        B.                      1      AT   \n",
       "9               ewald kraus                      3      AT   \n",
       "10              Uwe Wuensch                      1      AT   \n",
       "11           Thomas Wallner                     31      AT   \n",
       "12               Erik Franz                      1      AT   \n",
       "13           Margit Schmidt                      1      AT   \n",
       "14          Florian Zangerl                      7      AT   \n",
       "15                  Student                      1      AT   \n",
       "16                 Philippe                      5      AT   \n",
       "17          Thomas Fischill                      1      AT   \n",
       "18         Florian Herzberg                      2      DE   \n",
       "\n",
       "                                         review_title  stars  \n",
       "0               Visa nimmt als Reiseversicherung die…      1  \n",
       "1                          Haftplicht bei 6. Jähriger      1  \n",
       "2                         Nie mehr Donau Versicherung      1  \n",
       "3    Miserabler Kundenservice - use any other company      1  \n",
       "4                    2 Mal angerufen für ein simples…      1  \n",
       "5                                        Unfreundlich      1  \n",
       "6                    Erfahrungen zur Donau Haus- und…      1  \n",
       "7                          NIE UM AUSREDEN VERLEGEN !      1  \n",
       "8   Jahrelang darf man brav einzahlen und wenn man...      1  \n",
       "9                      Nie wieder  donau versicherung      1  \n",
       "10                 Habe seit mehr als 10 Jahren eine…      1  \n",
       "11                                 super versicherung      1  \n",
       "12  Keine einzige Versicherung mehr über Donau-Ver...      1  \n",
       "13                                    Super Betreuung      5  \n",
       "14             Lebensversicherung zur Geldvernichtung      1  \n",
       "15  Schlechtester & frustrierendster Service den i...      1  \n",
       "16             Seit 2 Monaten kein Lebenszeichen von…      1  \n",
       "17                                     Tolle Beratung      5  \n",
       "18                    Eine Versicherung ohne Gewissen      1  "
      ]
     },
     "execution_count": 121,
     "metadata": {},
     "output_type": "execute_result"
    }
   ],
   "source": [
    "get_all_info('https://at.trustpilot.com/review/www.donauversicherung.at?languages=all&page=2')"
   ]
  },
  {
   "cell_type": "code",
   "execution_count": null,
   "id": "c5ed2896",
   "metadata": {},
   "outputs": [],
   "source": []
  }
 ],
 "metadata": {
  "kernelspec": {
   "display_name": "Python 3 (ipykernel)",
   "language": "python",
   "name": "python3"
  },
  "language_info": {
   "codemirror_mode": {
    "name": "ipython",
    "version": 3
   },
   "file_extension": ".py",
   "mimetype": "text/x-python",
   "name": "python",
   "nbconvert_exporter": "python",
   "pygments_lexer": "ipython3",
   "version": "3.11.5"
  }
 },
 "nbformat": 4,
 "nbformat_minor": 5
}
