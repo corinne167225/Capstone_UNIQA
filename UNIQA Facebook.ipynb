{
 "cells": [
  {
   "cell_type": "markdown",
   "id": "415b5540",
   "metadata": {},
   "source": [
    "# UNIQA Facebook"
   ]
  },
  {
   "cell_type": "markdown",
   "id": "0fd03c12",
   "metadata": {},
   "source": [
    "### Importing Libraries"
   ]
  },
  {
   "cell_type": "code",
   "execution_count": 3,
   "id": "6c355c0a",
   "metadata": {},
   "outputs": [
    {
     "name": "stdout",
     "output_type": "stream",
     "text": [
      "Collecting facebook_page_info_scraper\n",
      "  Obtaining dependency information for facebook_page_info_scraper from https://files.pythonhosted.org/packages/c3/47/5b07f09fbf54f3f35d3a5d8e5a6e50d0967757c256da862715c7131821a9/facebook_page_info_scraper-1.1.2-py3-none-any.whl.metadata\n",
      "  Downloading facebook_page_info_scraper-1.1.2-py3-none-any.whl.metadata (4.6 kB)\n",
      "Collecting geopy==2.2.0 (from facebook_page_info_scraper)\n",
      "  Obtaining dependency information for geopy==2.2.0 from https://files.pythonhosted.org/packages/e1/e1/45f25e3d3acf26782888f847de7c958a2807a039210fb1016cc3fb9555c4/geopy-2.2.0-py3-none-any.whl.metadata\n",
      "  Downloading geopy-2.2.0-py3-none-any.whl.metadata (6.8 kB)\n",
      "Collecting retry~=0.9.2 (from facebook_page_info_scraper)\n",
      "  Obtaining dependency information for retry~=0.9.2 from https://files.pythonhosted.org/packages/4b/0d/53aea75710af4528a25ed6837d71d117602b01946b307a3912cb3cfcbcba/retry-0.9.2-py2.py3-none-any.whl.metadata\n",
      "  Downloading retry-0.9.2-py2.py3-none-any.whl.metadata (5.8 kB)\n",
      "Collecting selenium~=4.8.2 (from facebook_page_info_scraper)\n",
      "  Obtaining dependency information for selenium~=4.8.2 from https://files.pythonhosted.org/packages/d9/4b/e964eaca99d249eb3109ac75af551601923ba727c915db43c82311a0b16a/selenium-4.8.3-py3-none-any.whl.metadata\n",
      "  Downloading selenium-4.8.3-py3-none-any.whl.metadata (7.2 kB)\n",
      "Collecting googletrans~=3.1.0a0 (from facebook_page_info_scraper)\n",
      "  Downloading googletrans-3.1.0a0.tar.gz (19 kB)\n",
      "  Preparing metadata (setup.py) ... \u001b[?25ldone\n",
      "\u001b[?25hCollecting geographiclib<2,>=1.49 (from geopy==2.2.0->facebook_page_info_scraper)\n",
      "  Obtaining dependency information for geographiclib<2,>=1.49 from https://files.pythonhosted.org/packages/df/60/d1d4c4944f9726228faa80fbe2206c8ddfd9757791b2de2facb8818c5d74/geographiclib-1.52-py3-none-any.whl.metadata\n",
      "  Downloading geographiclib-1.52-py3-none-any.whl.metadata (1.0 kB)\n",
      "Collecting httpx==0.13.3 (from googletrans~=3.1.0a0->facebook_page_info_scraper)\n",
      "  Obtaining dependency information for httpx==0.13.3 from https://files.pythonhosted.org/packages/54/b4/698b284c6aed4d7c2b4fe3ba5df1fcf6093612423797e76fbb24890dd22f/httpx-0.13.3-py3-none-any.whl.metadata\n",
      "  Downloading httpx-0.13.3-py3-none-any.whl.metadata (25 kB)\n",
      "Requirement already satisfied: certifi in /Applications/anaconda3/lib/python3.11/site-packages (from httpx==0.13.3->googletrans~=3.1.0a0->facebook_page_info_scraper) (2023.11.17)\n",
      "Collecting hstspreload (from httpx==0.13.3->googletrans~=3.1.0a0->facebook_page_info_scraper)\n",
      "  Obtaining dependency information for hstspreload from https://files.pythonhosted.org/packages/39/fd/faadcac67dbeeb0c85faf64ce6481e88cfa1f60643f246d1326c13934466/hstspreload-2024.5.1-py3-none-any.whl.metadata\n",
      "  Downloading hstspreload-2024.5.1-py3-none-any.whl.metadata (2.1 kB)\n",
      "Requirement already satisfied: sniffio in /Applications/anaconda3/lib/python3.11/site-packages (from httpx==0.13.3->googletrans~=3.1.0a0->facebook_page_info_scraper) (1.3.0)\n",
      "Collecting chardet==3.* (from httpx==0.13.3->googletrans~=3.1.0a0->facebook_page_info_scraper)\n",
      "  Obtaining dependency information for chardet==3.* from https://files.pythonhosted.org/packages/bc/a9/01ffebfb562e4274b6487b4bb1ddec7ca55ec7510b22e4c51f14098443b8/chardet-3.0.4-py2.py3-none-any.whl.metadata\n",
      "  Downloading chardet-3.0.4-py2.py3-none-any.whl.metadata (3.2 kB)\n",
      "Collecting idna==2.* (from httpx==0.13.3->googletrans~=3.1.0a0->facebook_page_info_scraper)\n",
      "  Obtaining dependency information for idna==2.* from https://files.pythonhosted.org/packages/a2/38/928ddce2273eaa564f6f50de919327bf3a00f091b5baba8dfa9460f3a8a8/idna-2.10-py2.py3-none-any.whl.metadata\n",
      "  Downloading idna-2.10-py2.py3-none-any.whl.metadata (9.1 kB)\n",
      "Collecting rfc3986<2,>=1.3 (from httpx==0.13.3->googletrans~=3.1.0a0->facebook_page_info_scraper)\n",
      "  Obtaining dependency information for rfc3986<2,>=1.3 from https://files.pythonhosted.org/packages/c4/e5/63ca2c4edf4e00657584608bee1001302bbf8c5f569340b78304f2f446cb/rfc3986-1.5.0-py2.py3-none-any.whl.metadata\n",
      "  Downloading rfc3986-1.5.0-py2.py3-none-any.whl.metadata (6.5 kB)\n",
      "Collecting httpcore==0.9.* (from httpx==0.13.3->googletrans~=3.1.0a0->facebook_page_info_scraper)\n",
      "  Obtaining dependency information for httpcore==0.9.* from https://files.pythonhosted.org/packages/dd/d5/e4ff9318693ac6101a2095e580908b591838c6f33df8d3ee8dd953ba96a8/httpcore-0.9.1-py3-none-any.whl.metadata\n",
      "  Downloading httpcore-0.9.1-py3-none-any.whl.metadata (4.6 kB)\n",
      "Collecting h11<0.10,>=0.8 (from httpcore==0.9.*->httpx==0.13.3->googletrans~=3.1.0a0->facebook_page_info_scraper)\n",
      "  Obtaining dependency information for h11<0.10,>=0.8 from https://files.pythonhosted.org/packages/5a/fd/3dad730b0f95e78aeeb742f96fa7bbecbdd56a58e405d3da440d5bfb90c6/h11-0.9.0-py2.py3-none-any.whl.metadata\n",
      "  Downloading h11-0.9.0-py2.py3-none-any.whl.metadata (8.1 kB)\n",
      "Collecting h2==3.* (from httpcore==0.9.*->httpx==0.13.3->googletrans~=3.1.0a0->facebook_page_info_scraper)\n",
      "  Obtaining dependency information for h2==3.* from https://files.pythonhosted.org/packages/25/de/da019bcc539eeab02f6d45836f23858ac467f584bfec7a526ef200242afe/h2-3.2.0-py2.py3-none-any.whl.metadata\n",
      "  Downloading h2-3.2.0-py2.py3-none-any.whl.metadata (32 kB)\n",
      "Collecting hyperframe<6,>=5.2.0 (from h2==3.*->httpcore==0.9.*->httpx==0.13.3->googletrans~=3.1.0a0->facebook_page_info_scraper)\n",
      "  Obtaining dependency information for hyperframe<6,>=5.2.0 from https://files.pythonhosted.org/packages/19/0c/bf88182bcb5dce3094e2f3e4fe20db28a9928cb7bd5b08024030e4b140db/hyperframe-5.2.0-py2.py3-none-any.whl.metadata\n",
      "  Downloading hyperframe-5.2.0-py2.py3-none-any.whl.metadata (7.2 kB)\n",
      "Collecting hpack<4,>=3.0 (from h2==3.*->httpcore==0.9.*->httpx==0.13.3->googletrans~=3.1.0a0->facebook_page_info_scraper)\n",
      "  Obtaining dependency information for hpack<4,>=3.0 from https://files.pythonhosted.org/packages/8a/cc/e53517f4a1e13f74776ca93271caef378dadec14d71c61c949d759d3db69/hpack-3.0.0-py2.py3-none-any.whl.metadata\n",
      "  Downloading hpack-3.0.0-py2.py3-none-any.whl.metadata (7.0 kB)\n",
      "Requirement already satisfied: decorator>=3.4.2 in /Applications/anaconda3/lib/python3.11/site-packages (from retry~=0.9.2->facebook_page_info_scraper) (5.1.1)\n",
      "Collecting py<2.0.0,>=1.4.26 (from retry~=0.9.2->facebook_page_info_scraper)\n",
      "  Obtaining dependency information for py<2.0.0,>=1.4.26 from https://files.pythonhosted.org/packages/f6/f0/10642828a8dfb741e5f3fbaac830550a518a775c7fff6f04a007259b0548/py-1.11.0-py2.py3-none-any.whl.metadata\n",
      "  Downloading py-1.11.0-py2.py3-none-any.whl.metadata (2.8 kB)\n",
      "Requirement already satisfied: urllib3[socks]~=1.26 in /Applications/anaconda3/lib/python3.11/site-packages (from selenium~=4.8.2->facebook_page_info_scraper) (1.26.16)\n",
      "Requirement already satisfied: trio~=0.17 in /Applications/anaconda3/lib/python3.11/site-packages (from selenium~=4.8.2->facebook_page_info_scraper) (0.23.1)\n",
      "Requirement already satisfied: trio-websocket~=0.9 in /Applications/anaconda3/lib/python3.11/site-packages (from selenium~=4.8.2->facebook_page_info_scraper) (0.11.1)\n",
      "Requirement already satisfied: attrs>=20.1.0 in /Applications/anaconda3/lib/python3.11/site-packages (from trio~=0.17->selenium~=4.8.2->facebook_page_info_scraper) (22.1.0)\n",
      "Requirement already satisfied: sortedcontainers in /Applications/anaconda3/lib/python3.11/site-packages (from trio~=0.17->selenium~=4.8.2->facebook_page_info_scraper) (2.4.0)\n",
      "Requirement already satisfied: outcome in /Applications/anaconda3/lib/python3.11/site-packages (from trio~=0.17->selenium~=4.8.2->facebook_page_info_scraper) (1.3.0.post0)\n",
      "Requirement already satisfied: wsproto>=0.14 in /Applications/anaconda3/lib/python3.11/site-packages (from trio-websocket~=0.9->selenium~=4.8.2->facebook_page_info_scraper) (1.2.0)\n",
      "Requirement already satisfied: PySocks!=1.5.7,<2.0,>=1.5.6 in /Applications/anaconda3/lib/python3.11/site-packages (from urllib3[socks]~=1.26->selenium~=4.8.2->facebook_page_info_scraper) (1.7.1)\n",
      "Downloading facebook_page_info_scraper-1.1.2-py3-none-any.whl (8.7 kB)\n",
      "Downloading geopy-2.2.0-py3-none-any.whl (118 kB)\n",
      "\u001b[2K   \u001b[90m━━━━━━━━━━━━━━━━━━━━━━━━━━━━━━━━━━━━━━━━\u001b[0m \u001b[32m118.9/118.9 kB\u001b[0m \u001b[31m3.2 MB/s\u001b[0m eta \u001b[36m0:00:00\u001b[0m\n",
      "\u001b[?25hDownloading httpx-0.13.3-py3-none-any.whl (55 kB)\n",
      "\u001b[2K   \u001b[90m━━━━━━━━━━━━━━━━━━━━━━━━━━━━━━━━━━━━━━━━\u001b[0m \u001b[32m55.1/55.1 kB\u001b[0m \u001b[31m1.7 MB/s\u001b[0m eta \u001b[36m0:00:00\u001b[0m\n"
     ]
    },
    {
     "name": "stdout",
     "output_type": "stream",
     "text": [
      "\u001b[?25hDownloading chardet-3.0.4-py2.py3-none-any.whl (133 kB)\n",
      "\u001b[2K   \u001b[90m━━━━━━━━━━━━━━━━━━━━━━━━━━━━━━━━━━━━━━━━\u001b[0m \u001b[32m133.4/133.4 kB\u001b[0m \u001b[31m4.5 MB/s\u001b[0m eta \u001b[36m0:00:00\u001b[0m\n",
      "\u001b[?25hDownloading httpcore-0.9.1-py3-none-any.whl (42 kB)\n",
      "\u001b[2K   \u001b[90m━━━━━━━━━━━━━━━━━━━━━━━━━━━━━━━━━━━━━━━━\u001b[0m \u001b[32m42.6/42.6 kB\u001b[0m \u001b[31m1.3 MB/s\u001b[0m eta \u001b[36m0:00:00\u001b[0m\n",
      "\u001b[?25hDownloading idna-2.10-py2.py3-none-any.whl (58 kB)\n",
      "\u001b[2K   \u001b[90m━━━━━━━━━━━━━━━━━━━━━━━━━━━━━━━━━━━━━━━━\u001b[0m \u001b[32m58.8/58.8 kB\u001b[0m \u001b[31m5.4 MB/s\u001b[0m eta \u001b[36m0:00:00\u001b[0m\n",
      "\u001b[?25hDownloading h2-3.2.0-py2.py3-none-any.whl (65 kB)\n",
      "\u001b[2K   \u001b[90m━━━━━━━━━━━━━━━━━━━━━━━━━━━━━━━━━━━━━━━━\u001b[0m \u001b[32m65.0/65.0 kB\u001b[0m \u001b[31m2.1 MB/s\u001b[0m eta \u001b[36m0:00:00\u001b[0m\n",
      "\u001b[?25hDownloading retry-0.9.2-py2.py3-none-any.whl (8.0 kB)\n",
      "Downloading selenium-4.8.3-py3-none-any.whl (6.5 MB)\n",
      "\u001b[2K   \u001b[90m━━━━━━━━━━━━━━━━━━━━━━━━━━━━━━━━━━━━━━━━\u001b[0m \u001b[32m6.5/6.5 MB\u001b[0m \u001b[31m17.3 MB/s\u001b[0m eta \u001b[36m0:00:00\u001b[0m00:01\u001b[0m00:01\u001b[0m\n",
      "\u001b[?25hDownloading geographiclib-1.52-py3-none-any.whl (38 kB)\n",
      "Downloading py-1.11.0-py2.py3-none-any.whl (98 kB)\n",
      "\u001b[2K   \u001b[90m━━━━━━━━━━━━━━━━━━━━━━━━━━━━━━━━━━━━━━━━\u001b[0m \u001b[32m98.7/98.7 kB\u001b[0m \u001b[31m3.5 MB/s\u001b[0m eta \u001b[36m0:00:00\u001b[0m\n",
      "\u001b[?25hDownloading rfc3986-1.5.0-py2.py3-none-any.whl (31 kB)\n",
      "Downloading hstspreload-2024.5.1-py3-none-any.whl (1.1 MB)\n",
      "\u001b[2K   \u001b[90m━━━━━━━━━━━━━━━━━━━━━━━━━━━━━━━━━━━━━━━━\u001b[0m \u001b[32m1.1/1.1 MB\u001b[0m \u001b[31m14.2 MB/s\u001b[0m eta \u001b[36m0:00:00\u001b[0m00:01\u001b[0m00:01\u001b[0m\n",
      "\u001b[?25hDownloading h11-0.9.0-py2.py3-none-any.whl (53 kB)\n",
      "\u001b[2K   \u001b[90m━━━━━━━━━━━━━━━━━━━━━━━━━━━━━━━━━━━━━━━━\u001b[0m \u001b[32m53.6/53.6 kB\u001b[0m \u001b[31m1.6 MB/s\u001b[0m eta \u001b[36m0:00:00\u001b[0m\n",
      "\u001b[?25hDownloading hpack-3.0.0-py2.py3-none-any.whl (38 kB)\n",
      "Downloading hyperframe-5.2.0-py2.py3-none-any.whl (12 kB)\n",
      "Building wheels for collected packages: googletrans\n",
      "  Building wheel for googletrans (setup.py) ... \u001b[?25ldone\n",
      "\u001b[?25h  Created wheel for googletrans: filename=googletrans-3.1.0a0-py3-none-any.whl size=16352 sha256=26dcf5e0399bd53c77bbee561d10ab618a401c7c39cf5813070b9875955058ab\n",
      "  Stored in directory: /Users/corinnewilliams/Library/Caches/pip/wheels/81/f2/e0/d578821d723b473d18610ea93810e4a5402463919f07e603d9\n",
      "Successfully built googletrans\n",
      "Installing collected packages: rfc3986, hyperframe, hpack, h11, geographiclib, chardet, py, idna, hstspreload, h2, geopy, retry, httpcore, httpx, selenium, googletrans, facebook_page_info_scraper\n",
      "  Attempting uninstall: h11\n",
      "    Found existing installation: h11 0.14.0\n",
      "    Uninstalling h11-0.14.0:\n",
      "      Successfully uninstalled h11-0.14.0\n",
      "  Attempting uninstall: chardet\n",
      "    Found existing installation: chardet 4.0.0\n",
      "    Uninstalling chardet-4.0.0:\n",
      "      Successfully uninstalled chardet-4.0.0\n",
      "  Attempting uninstall: idna\n",
      "    Found existing installation: idna 3.4\n",
      "    Uninstalling idna-3.4:\n",
      "      Successfully uninstalled idna-3.4\n",
      "  Attempting uninstall: selenium\n",
      "    Found existing installation: selenium 4.15.2\n",
      "    Uninstalling selenium-4.15.2:\n",
      "      Successfully uninstalled selenium-4.15.2\n",
      "\u001b[31mERROR: pip's dependency resolver does not currently take into account all the packages that are installed. This behaviour is the source of the following dependency conflicts.\n",
      "spyder 5.4.3 requires pyqt5<5.16, which is not installed.\n",
      "spyder 5.4.3 requires pyqtwebengine<5.16, which is not installed.\u001b[0m\u001b[31m\n",
      "\u001b[0mSuccessfully installed chardet-3.0.4 facebook_page_info_scraper-1.1.2 geographiclib-1.52 geopy-2.2.0 googletrans-3.1.0a0 h11-0.9.0 h2-3.2.0 hpack-3.0.0 hstspreload-2024.5.1 httpcore-0.9.1 httpx-0.13.3 hyperframe-5.2.0 idna-2.10 py-1.11.0 retry-0.9.2 rfc3986-1.5.0 selenium-4.8.3\n"
     ]
    }
   ],
   "source": [
    "!pip install facebook_page_info_scraper"
   ]
  },
  {
   "cell_type": "code",
   "execution_count": 1,
   "id": "6f50e25a",
   "metadata": {},
   "outputs": [
    {
     "ename": "ModuleNotFoundError",
     "evalue": "No module named 'facebook_page_info_scraper'",
     "output_type": "error",
     "traceback": [
      "\u001b[0;31m---------------------------------------------------------------------------\u001b[0m",
      "\u001b[0;31mModuleNotFoundError\u001b[0m                       Traceback (most recent call last)",
      "Cell \u001b[0;32mIn[1], line 1\u001b[0m\n\u001b[0;32m----> 1\u001b[0m \u001b[38;5;28;01mfrom\u001b[39;00m \u001b[38;5;21;01mfacebook_page_info_scraper\u001b[39;00m \u001b[38;5;28;01mimport\u001b[39;00m FacebookPageInfoScraper\n",
      "\u001b[0;31mModuleNotFoundError\u001b[0m: No module named 'facebook_page_info_scraper'"
     ]
    }
   ],
   "source": [
    "from facebook_page_info_scraper import FacebookPageInfoScraper\n",
    "import pandas as pd"
   ]
  },
  {
   "cell_type": "code",
   "execution_count": null,
   "id": "bc2cd5b0",
   "metadata": {},
   "outputs": [],
   "source": []
  }
 ],
 "metadata": {
  "kernelspec": {
   "display_name": "Python 3 (ipykernel)",
   "language": "python",
   "name": "python3"
  },
  "language_info": {
   "codemirror_mode": {
    "name": "ipython",
    "version": 3
   },
   "file_extension": ".py",
   "mimetype": "text/x-python",
   "name": "python",
   "nbconvert_exporter": "python",
   "pygments_lexer": "ipython3",
   "version": "3.11.5"
  }
 },
 "nbformat": 4,
 "nbformat_minor": 5
}
